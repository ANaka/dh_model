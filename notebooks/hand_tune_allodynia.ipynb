{
 "cells": [
  {
   "cell_type": "code",
   "execution_count": 1,
   "metadata": {},
   "outputs": [],
   "source": [
    "import brian2 as br\n",
    "import pandas as pd\n",
    "import sympy\n",
    "import scipy as sp\n",
    "import seaborn as sns\n",
    "import matplotlib.pyplot as plt\n",
    "import dh_parameters as dp\n",
    "import dh_model as dh\n",
    "import numpy as np\n",
    "\n",
    "from scipy import optimize as op\n",
    "%matplotlib inline\n",
    "\n",
    "from importlib import reload\n",
    "reload(dp);\n",
    "reload(dh);\n"
   ]
  },
  {
   "cell_type": "code",
   "execution_count": 2,
   "metadata": {},
   "outputs": [],
   "source": [
    "nts = ['pr_noci','e_nts','i_gal']\n",
    "ats = ['pep2','AB_ltmr']\n",
    "Ns = dp.get_Ns()\n",
    "intrinsics_df = dp.intrinsics_table_w_units()\n",
    "ng_output_dfs = dp.interneuronal_connectivity_tables()\n",
    "ag_output_dfs = dp.afferent_connectivity_tables()"
   ]
  },
  {
   "cell_type": "code",
   "execution_count": 3,
   "metadata": {},
   "outputs": [],
   "source": [
    "ndf = {}\n",
    "adf ={}\n",
    "for param,df in ng_output_dfs.items():\n",
    "    ndf[param] = ng_output_dfs[param].loc[['pr_noci','e_nts','i_gal'],['pr_noci','e_nts','i_gal']]\n",
    "\n",
    "for param,df in ag_output_dfs.items():\n",
    "    adf[param] = ag_output_dfs[param].loc[['pep2'],['pr_noci','e_nts','i_gal']]    \n",
    "    \n",
    "for param,df in ndf.items():\n",
    "    ndf[param].columns = ['pr_noci', 'e_nts', 'i_WDR']\n",
    "    ndf[param].index = ['pr_noci', 'e_nts', 'i_WDR']\n",
    "    \n",
    "for param,df in adf.items():\n",
    "    adf[param].columns = ['pr_noci', 'e_nts', 'i_WDR']\n",
    "    \n",
    "ndf['p'].loc['i_WDR'] = [0.5,0.5,0.5]\n",
    "ndf['w_mu'].loc['i_WDR'] = [2e-9,2e-9,1e-9]\n",
    "ndf['w_sigma'].loc['i_WDR'] = [1e-15,1e-15,1e-15]\n",
    "ndf['conductance_name'].loc['i_WDR']=['i','i','i']\n",
    "\n",
    "ndf['p'].loc['e_nts'] = [0.5,0.5,0.5]\n",
    "ndf['w_mu'].loc['e_nts'] = [0.5e-9,0.25e-9,0.5e-9]\n",
    "ndf['w_sigma'].loc['e_nts'] = [1e-15,1e-15,1e-15]\n",
    "ndf['conductance_name'].loc['e_nts']=['e','e','e']\n",
    "\n",
    "adf['p'].loc['pep2'] = [0.5,0.,0.5]\n",
    "adf['w_mu'].loc['pep2'] = [2e-9,2e-9,2e-9]\n",
    "adf['w_sigma'].loc['pep2'] = [1e-15,1e-15,1e-15]\n",
    "adf['conductance_name'].loc['pep2']=['e','e','e']\n",
    "\n",
    "adf['p'].loc['AB_ltmr'] = [0,0.5,0.5]\n",
    "adf['w_mu'].loc['AB_ltmr'] = [2e-9,2e-9,2e-9]\n",
    "adf['w_sigma'].loc['AB_ltmr'] = [1e-15,1e-15,1e-15]\n",
    "adf['conductance_name'].loc['AB_ltmr']=['e','e','e']\n",
    "\n",
    "\n",
    "nts = ['pr_noci', 'e_nts', 'i_WDR']\n",
    "Ns['pr_noci'] = 20\n",
    "Ns['e_nts'] = 40\n",
    "Ns['i_WDR'] = 20\n",
    "Ns['pep2'] = 40\n",
    "Ns['AB_ltmr'] = 40\n",
    "\n",
    "intrinsics_df.loc['i_WDR'] = intrinsics_df.loc['i_gal']\n",
    "intrinsics_df.loc['pr_WDR','g_l_mu'] = 5\n"
   ]
  },
  {
   "cell_type": "code",
   "execution_count": 4,
   "metadata": {},
   "outputs": [
    {
     "data": {
      "text/html": [
       "<div>\n",
       "<style scoped>\n",
       "    .dataframe tbody tr th:only-of-type {\n",
       "        vertical-align: middle;\n",
       "    }\n",
       "\n",
       "    .dataframe tbody tr th {\n",
       "        vertical-align: top;\n",
       "    }\n",
       "\n",
       "    .dataframe thead th {\n",
       "        text-align: right;\n",
       "    }\n",
       "</style>\n",
       "<table border=\"1\" class=\"dataframe\">\n",
       "  <thead>\n",
       "    <tr style=\"text-align: right;\">\n",
       "      <th></th>\n",
       "      <th>pr_noci</th>\n",
       "      <th>e_nts</th>\n",
       "      <th>i_WDR</th>\n",
       "    </tr>\n",
       "  </thead>\n",
       "  <tbody>\n",
       "    <tr>\n",
       "      <th>pr_noci</th>\n",
       "      <td>NaN</td>\n",
       "      <td>NaN</td>\n",
       "      <td>NaN</td>\n",
       "    </tr>\n",
       "    <tr>\n",
       "      <th>e_nts</th>\n",
       "      <td>0.5</td>\n",
       "      <td>0.5</td>\n",
       "      <td>0.5</td>\n",
       "    </tr>\n",
       "    <tr>\n",
       "      <th>i_WDR</th>\n",
       "      <td>0.5</td>\n",
       "      <td>0.5</td>\n",
       "      <td>0.5</td>\n",
       "    </tr>\n",
       "  </tbody>\n",
       "</table>\n",
       "</div>"
      ],
      "text/plain": [
       "         pr_noci  e_nts  i_WDR\n",
       "pr_noci      NaN    NaN    NaN\n",
       "e_nts        0.5    0.5    0.5\n",
       "i_WDR        0.5    0.5    0.5"
      ]
     },
     "execution_count": 4,
     "metadata": {},
     "output_type": "execute_result"
    }
   ],
   "source": [
    "ndf['p']"
   ]
  },
  {
   "cell_type": "code",
   "execution_count": 5,
   "metadata": {},
   "outputs": [],
   "source": [
    "################################################################################\n",
    "# Model parameters\n",
    "################################################################################\n",
    "### General parameters\n",
    "\n",
    "duration = 25*br.ms  # Total simulation time\n",
    "sim_dt = 0.1*br.ms        # Integrator/sampling step\n",
    "br.defaultclock.dt = sim_dt"
   ]
  },
  {
   "cell_type": "code",
   "execution_count": 87,
   "metadata": {},
   "outputs": [],
   "source": [
    "# initialize network\n",
    "ngs = {}\n",
    "spike_mons = {}\n",
    "poprates = {}\n",
    "synapses = []\n",
    "states = {}\n",
    "for nt in nts:\n",
    "    ng = dh.adex_group(name = nt, N = Ns[nt])\n",
    "    ng.set_intrinsics_from_dfs(intrinsics_df)\n",
    "    ng.initialize_I_ex_array(duration,sim_dt)\n",
    "    ngs[nt] = ng\n",
    "    spike_mons[nt]= br.SpikeMonitor(ngs[nt], record=True)  \n",
    "    poprates[nt] = br.PopulationRateMonitor(ngs[nt])\n",
    "    states[nt]= br.StateMonitor(ngs[nt],variables = 'v', record=True) \n",
    "    \n",
    "ags = {}\n",
    "for at in ats:\n",
    "    ags[at] = dh.afferent_group(name = at, N = Ns[at])   \n",
    "    \n",
    "s = dh.connect_all_ngs_from_dfs(ngs,ndf)\n",
    "s.update(dh.connect_all_ags_from_dfs(ngs,ags,adf))\n",
    "\n",
    "# net = Network(ngs,ags,s,spks,states,poprates)\n",
    "net = br.Network(ngs,ags,s,spike_mons,states)\n",
    "net.store()"
   ]
  },
  {
   "cell_type": "code",
   "execution_count": 88,
   "metadata": {},
   "outputs": [],
   "source": [
    "#output = tensor: rates x psth x num_trials\n",
    "num_trials = 40\n",
    "block_length = 10\n",
    "conditions = 4\n",
    "num_repeats = 1\n",
    "trial_durations = [duration] * num_trials\n",
    "inputs = dh.initialize_inputs(ags,ngs,num_trials,trial_durations = trial_durations)\n",
    "psth_kernel,_ = dh.gaussian_psth(duration, sim_dt, mu = 5 * br.ms, sigma = 3 * br.ms)\n",
    "\n",
    "rates_of_active = np.ones((num_trials)) * 5.\n",
    "frac_active_pep2 = np.concatenate([np.linspace(0.001,1,block_length),np.zeros(block_length)]*2 * num_repeats )\n",
    "\n",
    "# frac_active = np.random.rand(num_trials)\n",
    "\n",
    "\n",
    "\n",
    "at = 'pep2'\n",
    "for trial,frac in enumerate(frac_active_pep2):\n",
    "    _, active_binary = dh.make_active_inds_binary(frac, ags[at].N)\n",
    "    rate_vec = np.ones((ags[at].N))* rates_of_active[trial] * active_binary\n",
    "    spike_times,indices = dh.generate_population_spikes(psth_kernel,rate_vec,sim_dt)\n",
    "    inputs[trial][at]['spike_times'] = spike_times\n",
    "    inputs[trial][at]['indices'] = indices\n",
    "\n",
    "\n",
    "rates_of_active = np.ones((num_trials)) * 5.\n",
    "# frac_active = np.ones((num_trials))\n",
    "frac_active_AB_ltmr = frac_active = np.concatenate([np.zeros(block_length),np.linspace(0.001,1,block_length)]*2* num_repeats )\n",
    "at = 'AB_ltmr'\n",
    "for trial,frac in enumerate(frac_active_AB_ltmr):\n",
    "    _, active_binary = dh.make_active_inds_binary(frac, ags[at].N)\n",
    "    rate_vec = np.ones((ags[at].N))* rates_of_active[trial] * active_binary\n",
    "    spike_times,indices = dh.generate_population_spikes(psth_kernel,rate_vec,sim_dt)\n",
    "    inputs[trial][at]['spike_times'] = spike_times\n",
    "    inputs[trial][at]['indices'] = indices\n",
    "    \n",
    "nt = 'i_WDR'\n",
    "silenced_i_WDR = np.concatenate([np.zeros(block_length*2),np.ones(block_length*2)*-5000]* num_repeats )\n",
    "for trial,current in enumerate(silenced_i_WDR):\n",
    "    inputs[trial][nt]['I_ex'] += current\n",
    "    \n",
    "df = pd.DataFrame({'frac_active_pep2':frac_active_pep2,\n",
    "                   'frac_active_AB_ltmr':frac_active_AB_ltmr,\n",
    "                   'silenced_i_WDR':silenced_i_WDR})\n",
    "df['heat'] = df['frac_active_pep2']>0\n",
    "df['mech'] = df['frac_active_AB_ltmr']>0\n",
    "df['silenced'] = df['silenced_i_WDR']<0"
   ]
  },
  {
   "cell_type": "code",
   "execution_count": 89,
   "metadata": {},
   "outputs": [],
   "source": [
    "target_outputs = dh.initialize_target_outputs(inputs)\n",
    "\n",
    "# rate_vec = np.linspace(0,4,num_trials)\n",
    "# target_outputs = dh.add_target_mean_rate(target_outputs, rate_vec, 'pr_WDR')\n",
    "\n",
    "# rate_vec = [0.,0.,0.,1.,2., 3., 4., 4.]\n",
    "# target_outputs = dh.add_target_mean_rate(target_outputs, rate_vec, 'pr_noci')"
   ]
  },
  {
   "cell_type": "code",
   "execution_count": 90,
   "metadata": {},
   "outputs": [],
   "source": [
    "# update_funcs = {}\n",
    "# ng_vpl= [('pr_WDR','g_l_mu')]\n",
    "# update_funcs.update(dh.gen_intrinsics_update_funcs(ngs,ng_vpl))\n",
    "# s_var_names = ['pep2_to_pr_noci','pep2_to_i_WDR','pep2_to_pr_WDR',\n",
    "#                'AB_ltmr_to_pr_noci','AB_ltmr_to_i_WDR','AB_ltmr_to_pr_WDR',\n",
    "#                'i_WDR_to_pr_noci','i_WDR_to_pr_WDR',]\n",
    "# update_funcs.update(dh.gen_s_w_update_funcs(s,))\n",
    "# update_funcs"
   ]
  },
  {
   "cell_type": "code",
   "execution_count": 91,
   "metadata": {},
   "outputs": [],
   "source": [
    "sim_objects ={}\n",
    "sim_objects['network'] = net\n",
    "sim_objects['neuron_groups'] = ngs\n",
    "sim_objects['afferent_groups'] = ags\n",
    "sim_objects['synapses'] = s\n",
    "sim_objects['spike_mons'] = spike_mons\n",
    "sim_objects['sim_dt'] = sim_dt"
   ]
  },
  {
   "cell_type": "code",
   "execution_count": 92,
   "metadata": {},
   "outputs": [],
   "source": [
    "I_ex_arrays,ag_inputs_full_trial = dh.concat_inputs(inputs,sim_objects)"
   ]
  },
  {
   "cell_type": "code",
   "execution_count": 93,
   "metadata": {},
   "outputs": [],
   "source": [
    "bins = np.arange(0,sum(trial_durations),1*br.ms)\n",
    "psth,bins = np.histogram(ag_inputs_full_trial['pep2']['spike_times'],bins)"
   ]
  },
  {
   "cell_type": "code",
   "execution_count": 58,
   "metadata": {},
   "outputs": [
    {
     "data": {
      "text/plain": [
       "[<matplotlib.lines.Line2D at 0x1a1d371cc0>]"
      ]
     },
     "execution_count": 58,
     "metadata": {},
     "output_type": "execute_result"
    },
    {
     "data": {
      "image/png": "[encoded data removed]",
      "text/plain": [
       "<Figure size 864x576 with 3 Axes>"
      ]
     },
     "metadata": {},
     "output_type": "display_data"
    }
   ],
   "source": [
    "f,ax = plt.subplots(3,1,figsize = (12,8),sharex = True)\n",
    "ax.flatten()\n",
    "ax[0].plot(bins[:-1],psth)\n",
    "# ax[0].set_xlim((0,1000))"
   ]
  },
  {
   "cell_type": "code",
   "execution_count": 61,
   "metadata": {},
   "outputs": [],
   "source": [
    "def stack_I_ex_arrays(I_ex_arrays):\n",
    "    return np.concatenate(list(I_ex_arrays.values()),axis = 1)\n",
    "\n",
    "# def spike_times_to_psth()"
   ]
  },
  {
   "cell_type": "code",
   "execution_count": 62,
   "metadata": {},
   "outputs": [
    {
     "ename": "KeyboardInterrupt",
     "evalue": "",
     "output_type": "error",
     "traceback": [
      "\u001b[0;31m---------------------------------------------------------------------------\u001b[0m",
      "\u001b[0;31mKeyboardInterrupt\u001b[0m                         Traceback (most recent call last)",
      "\u001b[0;32m<ipython-input-62-15c406a29dc0>\u001b[0m in \u001b[0;36m<module>\u001b[0;34m\u001b[0m\n\u001b[1;32m      3\u001b[0m \u001b[0max\u001b[0m\u001b[0;34m[\u001b[0m\u001b[0;36m0\u001b[0m\u001b[0;34m]\u001b[0m\u001b[0;34m.\u001b[0m\u001b[0mplot\u001b[0m\u001b[0;34m(\u001b[0m\u001b[0mag_inputs_full_trial\u001b[0m\u001b[0;34m[\u001b[0m\u001b[0;34m'pep2'\u001b[0m\u001b[0;34m]\u001b[0m\u001b[0;34m[\u001b[0m\u001b[0;34m'spike_times'\u001b[0m\u001b[0;34m]\u001b[0m\u001b[0;34m/\u001b[0m\u001b[0msim_dt\u001b[0m\u001b[0;34m,\u001b[0m\u001b[0mag_inputs_full_trial\u001b[0m\u001b[0;34m[\u001b[0m\u001b[0;34m'pep2'\u001b[0m\u001b[0;34m]\u001b[0m\u001b[0;34m[\u001b[0m\u001b[0;34m'indices'\u001b[0m\u001b[0;34m]\u001b[0m\u001b[0;34m,\u001b[0m\u001b[0;34m'.'\u001b[0m\u001b[0;34m,\u001b[0m\u001b[0malpha\u001b[0m \u001b[0;34m=\u001b[0m \u001b[0;36m0.1\u001b[0m\u001b[0;34m)\u001b[0m\u001b[0;34m\u001b[0m\u001b[0;34m\u001b[0m\u001b[0m\n\u001b[1;32m      4\u001b[0m \u001b[0max\u001b[0m\u001b[0;34m[\u001b[0m\u001b[0;36m1\u001b[0m\u001b[0;34m]\u001b[0m\u001b[0;34m.\u001b[0m\u001b[0mplot\u001b[0m\u001b[0;34m(\u001b[0m\u001b[0mag_inputs_full_trial\u001b[0m\u001b[0;34m[\u001b[0m\u001b[0;34m'AB_ltmr'\u001b[0m\u001b[0;34m]\u001b[0m\u001b[0;34m[\u001b[0m\u001b[0;34m'spike_times'\u001b[0m\u001b[0;34m]\u001b[0m\u001b[0;34m/\u001b[0m\u001b[0msim_dt\u001b[0m\u001b[0;34m,\u001b[0m\u001b[0mag_inputs_full_trial\u001b[0m\u001b[0;34m[\u001b[0m\u001b[0;34m'AB_ltmr'\u001b[0m\u001b[0;34m]\u001b[0m\u001b[0;34m[\u001b[0m\u001b[0;34m'indices'\u001b[0m\u001b[0;34m]\u001b[0m\u001b[0;34m,\u001b[0m\u001b[0;34m'.'\u001b[0m\u001b[0;34m,\u001b[0m\u001b[0malpha\u001b[0m \u001b[0;34m=\u001b[0m \u001b[0;36m0.1\u001b[0m\u001b[0;34m)\u001b[0m\u001b[0;34m\u001b[0m\u001b[0;34m\u001b[0m\u001b[0m\n\u001b[0;32m----> 5\u001b[0;31m \u001b[0max\u001b[0m\u001b[0;34m[\u001b[0m\u001b[0;36m2\u001b[0m\u001b[0;34m]\u001b[0m\u001b[0;34m.\u001b[0m\u001b[0mimshow\u001b[0m\u001b[0;34m(\u001b[0m\u001b[0mstack_I_ex_arrays\u001b[0m\u001b[0;34m(\u001b[0m\u001b[0mI_ex_arrays\u001b[0m\u001b[0;34m)\u001b[0m\u001b[0;34m.\u001b[0m\u001b[0mT\u001b[0m\u001b[0;34m,\u001b[0m\u001b[0maspect\u001b[0m \u001b[0;34m=\u001b[0m \u001b[0;34m'auto'\u001b[0m\u001b[0;34m)\u001b[0m\u001b[0;34m\u001b[0m\u001b[0;34m\u001b[0m\u001b[0m\n\u001b[0m",
      "\u001b[0;32m~/anaconda3/envs/brian/lib/python3.6/site-packages/matplotlib/__init__.py\u001b[0m in \u001b[0;36minner\u001b[0;34m(ax, data, *args, **kwargs)\u001b[0m\n\u001b[1;32m   1808\u001b[0m                         \u001b[0;34m\"the Matplotlib list!)\"\u001b[0m \u001b[0;34m%\u001b[0m \u001b[0;34m(\u001b[0m\u001b[0mlabel_namer\u001b[0m\u001b[0;34m,\u001b[0m \u001b[0mfunc\u001b[0m\u001b[0;34m.\u001b[0m\u001b[0m__name__\u001b[0m\u001b[0;34m)\u001b[0m\u001b[0;34m,\u001b[0m\u001b[0;34m\u001b[0m\u001b[0;34m\u001b[0m\u001b[0m\n\u001b[1;32m   1809\u001b[0m                         RuntimeWarning, stacklevel=2)\n\u001b[0;32m-> 1810\u001b[0;31m             \u001b[0;32mreturn\u001b[0m \u001b[0mfunc\u001b[0m\u001b[0;34m(\u001b[0m\u001b[0max\u001b[0m\u001b[0;34m,\u001b[0m \u001b[0;34m*\u001b[0m\u001b[0margs\u001b[0m\u001b[0;34m,\u001b[0m \u001b[0;34m**\u001b[0m\u001b[0mkwargs\u001b[0m\u001b[0;34m)\u001b[0m\u001b[0;34m\u001b[0m\u001b[0;34m\u001b[0m\u001b[0m\n\u001b[0m\u001b[1;32m   1811\u001b[0m \u001b[0;34m\u001b[0m\u001b[0m\n\u001b[1;32m   1812\u001b[0m         inner.__doc__ = _add_data_doc(inner.__doc__,\n",
      "\u001b[0;32m~/anaconda3/envs/brian/lib/python3.6/site-packages/matplotlib/axes/_axes.py\u001b[0m in \u001b[0;36mimshow\u001b[0;34m(self, X, cmap, norm, aspect, interpolation, alpha, vmin, vmax, origin, extent, shape, filternorm, filterrad, imlim, resample, url, **kwargs)\u001b[0m\n\u001b[1;32m   5500\u001b[0m             \u001b[0mim\u001b[0m\u001b[0;34m.\u001b[0m\u001b[0mset_clim\u001b[0m\u001b[0;34m(\u001b[0m\u001b[0mvmin\u001b[0m\u001b[0;34m,\u001b[0m \u001b[0mvmax\u001b[0m\u001b[0;34m)\u001b[0m\u001b[0;34m\u001b[0m\u001b[0;34m\u001b[0m\u001b[0m\n\u001b[1;32m   5501\u001b[0m         \u001b[0;32melse\u001b[0m\u001b[0;34m:\u001b[0m\u001b[0;34m\u001b[0m\u001b[0;34m\u001b[0m\u001b[0m\n\u001b[0;32m-> 5502\u001b[0;31m             \u001b[0mim\u001b[0m\u001b[0;34m.\u001b[0m\u001b[0mautoscale_None\u001b[0m\u001b[0;34m(\u001b[0m\u001b[0;34m)\u001b[0m\u001b[0;34m\u001b[0m\u001b[0;34m\u001b[0m\u001b[0m\n\u001b[0m\u001b[1;32m   5503\u001b[0m         \u001b[0mim\u001b[0m\u001b[0;34m.\u001b[0m\u001b[0mset_url\u001b[0m\u001b[0;34m(\u001b[0m\u001b[0murl\u001b[0m\u001b[0;34m)\u001b[0m\u001b[0;34m\u001b[0m\u001b[0;34m\u001b[0m\u001b[0m\n\u001b[1;32m   5504\u001b[0m \u001b[0;34m\u001b[0m\u001b[0m\n",
      "\u001b[0;32m~/anaconda3/envs/brian/lib/python3.6/site-packages/matplotlib/cm.py\u001b[0m in \u001b[0;36mautoscale_None\u001b[0;34m(self)\u001b[0m\n\u001b[1;32m    373\u001b[0m         \u001b[0;32mif\u001b[0m \u001b[0mself\u001b[0m\u001b[0;34m.\u001b[0m\u001b[0m_A\u001b[0m \u001b[0;32mis\u001b[0m \u001b[0;32mNone\u001b[0m\u001b[0;34m:\u001b[0m\u001b[0;34m\u001b[0m\u001b[0;34m\u001b[0m\u001b[0m\n\u001b[1;32m    374\u001b[0m             \u001b[0;32mraise\u001b[0m \u001b[0mTypeError\u001b[0m\u001b[0;34m(\u001b[0m\u001b[0;34m'You must first set_array for mappable'\u001b[0m\u001b[0;34m)\u001b[0m\u001b[0;34m\u001b[0m\u001b[0;34m\u001b[0m\u001b[0m\n\u001b[0;32m--> 375\u001b[0;31m         \u001b[0mself\u001b[0m\u001b[0;34m.\u001b[0m\u001b[0mnorm\u001b[0m\u001b[0;34m.\u001b[0m\u001b[0mautoscale_None\u001b[0m\u001b[0;34m(\u001b[0m\u001b[0mself\u001b[0m\u001b[0;34m.\u001b[0m\u001b[0m_A\u001b[0m\u001b[0;34m)\u001b[0m\u001b[0;34m\u001b[0m\u001b[0;34m\u001b[0m\u001b[0m\n\u001b[0m\u001b[1;32m    376\u001b[0m         \u001b[0mself\u001b[0m\u001b[0;34m.\u001b[0m\u001b[0mchanged\u001b[0m\u001b[0;34m(\u001b[0m\u001b[0;34m)\u001b[0m\u001b[0;34m\u001b[0m\u001b[0;34m\u001b[0m\u001b[0m\n\u001b[1;32m    377\u001b[0m \u001b[0;34m\u001b[0m\u001b[0m\n",
      "\u001b[0;32m~/anaconda3/envs/brian/lib/python3.6/site-packages/matplotlib/colors.py\u001b[0m in \u001b[0;36mautoscale_None\u001b[0;34m(self, A)\u001b[0m\n\u001b[1;32m    986\u001b[0m         \u001b[0mA\u001b[0m \u001b[0;34m=\u001b[0m \u001b[0mnp\u001b[0m\u001b[0;34m.\u001b[0m\u001b[0masanyarray\u001b[0m\u001b[0;34m(\u001b[0m\u001b[0mA\u001b[0m\u001b[0;34m)\u001b[0m\u001b[0;34m\u001b[0m\u001b[0;34m\u001b[0m\u001b[0m\n\u001b[1;32m    987\u001b[0m         \u001b[0;32mif\u001b[0m \u001b[0mself\u001b[0m\u001b[0;34m.\u001b[0m\u001b[0mvmin\u001b[0m \u001b[0;32mis\u001b[0m \u001b[0;32mNone\u001b[0m \u001b[0;32mand\u001b[0m \u001b[0mA\u001b[0m\u001b[0;34m.\u001b[0m\u001b[0msize\u001b[0m\u001b[0;34m:\u001b[0m\u001b[0;34m\u001b[0m\u001b[0;34m\u001b[0m\u001b[0m\n\u001b[0;32m--> 988\u001b[0;31m             \u001b[0mself\u001b[0m\u001b[0;34m.\u001b[0m\u001b[0mvmin\u001b[0m \u001b[0;34m=\u001b[0m \u001b[0mA\u001b[0m\u001b[0;34m.\u001b[0m\u001b[0mmin\u001b[0m\u001b[0;34m(\u001b[0m\u001b[0;34m)\u001b[0m\u001b[0;34m\u001b[0m\u001b[0;34m\u001b[0m\u001b[0m\n\u001b[0m\u001b[1;32m    989\u001b[0m         \u001b[0;32mif\u001b[0m \u001b[0mself\u001b[0m\u001b[0;34m.\u001b[0m\u001b[0mvmax\u001b[0m \u001b[0;32mis\u001b[0m \u001b[0;32mNone\u001b[0m \u001b[0;32mand\u001b[0m \u001b[0mA\u001b[0m\u001b[0;34m.\u001b[0m\u001b[0msize\u001b[0m\u001b[0;34m:\u001b[0m\u001b[0;34m\u001b[0m\u001b[0;34m\u001b[0m\u001b[0m\n\u001b[1;32m    990\u001b[0m             \u001b[0mself\u001b[0m\u001b[0;34m.\u001b[0m\u001b[0mvmax\u001b[0m \u001b[0;34m=\u001b[0m \u001b[0mA\u001b[0m\u001b[0;34m.\u001b[0m\u001b[0mmax\u001b[0m\u001b[0;34m(\u001b[0m\u001b[0;34m)\u001b[0m\u001b[0;34m\u001b[0m\u001b[0;34m\u001b[0m\u001b[0m\n",
      "\u001b[0;32m~/anaconda3/envs/brian/lib/python3.6/site-packages/numpy/ma/core.py\u001b[0m in \u001b[0;36mmin\u001b[0;34m(self, axis, out, fill_value, keepdims)\u001b[0m\n\u001b[1;32m   5601\u001b[0m         \u001b[0;32mif\u001b[0m \u001b[0mout\u001b[0m \u001b[0;32mis\u001b[0m \u001b[0;32mNone\u001b[0m\u001b[0;34m:\u001b[0m\u001b[0;34m\u001b[0m\u001b[0;34m\u001b[0m\u001b[0m\n\u001b[1;32m   5602\u001b[0m             result = self.filled(fill_value).min(\n\u001b[0;32m-> 5603\u001b[0;31m                 axis=axis, out=out, **kwargs).view(type(self))\n\u001b[0m\u001b[1;32m   5604\u001b[0m             \u001b[0;32mif\u001b[0m \u001b[0mresult\u001b[0m\u001b[0;34m.\u001b[0m\u001b[0mndim\u001b[0m\u001b[0;34m:\u001b[0m\u001b[0;34m\u001b[0m\u001b[0;34m\u001b[0m\u001b[0m\n\u001b[1;32m   5605\u001b[0m                 \u001b[0;31m# Set the mask\u001b[0m\u001b[0;34m\u001b[0m\u001b[0;34m\u001b[0m\u001b[0;34m\u001b[0m\u001b[0m\n",
      "\u001b[0;32m~/anaconda3/envs/brian/lib/python3.6/site-packages/numpy/core/_methods.py\u001b[0m in \u001b[0;36m_amin\u001b[0;34m(a, axis, out, keepdims, initial)\u001b[0m\n\u001b[1;32m     30\u001b[0m def _amin(a, axis=None, out=None, keepdims=False,\n\u001b[1;32m     31\u001b[0m           initial=_NoValue):\n\u001b[0;32m---> 32\u001b[0;31m     \u001b[0;32mreturn\u001b[0m \u001b[0mumr_minimum\u001b[0m\u001b[0;34m(\u001b[0m\u001b[0ma\u001b[0m\u001b[0;34m,\u001b[0m \u001b[0maxis\u001b[0m\u001b[0;34m,\u001b[0m \u001b[0;32mNone\u001b[0m\u001b[0;34m,\u001b[0m \u001b[0mout\u001b[0m\u001b[0;34m,\u001b[0m \u001b[0mkeepdims\u001b[0m\u001b[0;34m,\u001b[0m \u001b[0minitial\u001b[0m\u001b[0;34m)\u001b[0m\u001b[0;34m\u001b[0m\u001b[0;34m\u001b[0m\u001b[0m\n\u001b[0m\u001b[1;32m     33\u001b[0m \u001b[0;34m\u001b[0m\u001b[0m\n\u001b[1;32m     34\u001b[0m def _sum(a, axis=None, dtype=None, out=None, keepdims=False,\n",
      "\u001b[0;31mKeyboardInterrupt\u001b[0m: "
     ]
    },
    {
     "data": {
      "image/png": "[encoded data removed]",
      "text/plain": [
       "<Figure size 864x576 with 3 Axes>"
      ]
     },
     "metadata": {},
     "output_type": "display_data"
    }
   ],
   "source": [
    "f,ax = plt.subplots(3,1,figsize = (12,8),sharex = True)\n",
    "ax.flatten()\n",
    "ax[0].plot(ag_inputs_full_trial['pep2']['spike_times']/sim_dt,ag_inputs_full_trial['pep2']['indices'],'.',alpha = 0.1)\n",
    "ax[1].plot(ag_inputs_full_trial['AB_ltmr']['spike_times']/sim_dt,ag_inputs_full_trial['AB_ltmr']['indices'],'.',alpha = 0.1)\n",
    "ax[2].imshow(stack_I_ex_arrays(I_ex_arrays).T,aspect = 'auto')"
   ]
  },
  {
   "cell_type": "code",
   "execution_count": 94,
   "metadata": {},
   "outputs": [],
   "source": [
    "net.restore()\n",
    "cost, observed_spikes = dh.run_sim(sim_objects, inputs, target_outputs, dh.mean_spike_count_cost_func)"
   ]
  },
  {
   "cell_type": "code",
   "execution_count": 95,
   "metadata": {},
   "outputs": [],
   "source": [
    "for j,nt in enumerate(nts):\n",
    "    this_rates = [observed_spikes[i][nt]['mean_count'] for i in range(len(observed_spikes))]\n",
    "    df[nt+'_mean_rate'] = this_rates"
   ]
  },
  {
   "cell_type": "code",
   "execution_count": null,
   "metadata": {},
   "outputs": [],
   "source": []
  },
  {
   "cell_type": "code",
   "execution_count": 96,
   "metadata": {},
   "outputs": [
    {
     "data": {
      "image/png": "[encoded data removed]",
      "text/plain": [
       "<Figure size 864x576 with 1 Axes>"
      ]
     },
     "metadata": {},
     "output_type": "display_data"
    }
   ],
   "source": [
    "cmap = sns.color_palette('hls',4)\n",
    "f,ax = plt.subplots(1,1,figsize = (12,8), sharex = True)\n",
    "y_bias = 0\n",
    "for j,nt in enumerate(nts):\n",
    "    this_rates = [observed_spikes[i][nt]['mean_count'] for i in range(len(observed_spikes))]\n",
    "    ax.plot(this_rates,'.',color=cmap[j])"
   ]
  },
  {
   "cell_type": "code",
   "execution_count": 66,
   "metadata": {},
   "outputs": [
    {
     "data": {
      "image/png": "[encoded data removed]",
      "text/plain": [
       "<Figure size 864x864 with 4 Axes>"
      ]
     },
     "metadata": {},
     "output_type": "display_data"
    }
   ],
   "source": [
    "sns.set_style('darkgrid')\n",
    "cmap = sns.color_palette('hls',4)\n",
    "f,ax = plt.subplots(4,1,figsize = (12,12), sharex = True,sharey = True)\n",
    "ax = ax.flatten()\n",
    "\n",
    "heat_ctrl = df['heat'] & ~df['silenced']\n",
    "mech_ctrl = df['mech'] & ~df['silenced']\n",
    "heat_sil = df['heat'] & df['silenced']\n",
    "mech_sil = df['mech'] & df['silenced']\n",
    "\n",
    "inds = [heat_ctrl,mech_ctrl,heat_sil,mech_sil]\n",
    "ivs = ['frac_active_pep2','frac_active_AB_ltmr','frac_active_pep2','frac_active_AB_ltmr']\n",
    "for i, (ind,iv) in enumerate(zip(inds,ivs)):\n",
    "    this_df = df[ind]\n",
    "    agg_df = this_df.groupby(iv).agg(['mean','std']).reset_index()\n",
    "    ax[i].errorbar(agg_df[iv],agg_df['pr_noci_mean_rate']['mean'],agg_df['pr_noci_mean_rate']['std'],color = cmap[0])\n",
    "    ax[i].errorbar(agg_df[iv],agg_df['e_nts_mean_rate']['mean'],agg_df['e_nts_mean_rate']['std'],color = cmap[1])\n",
    "    ax[i].errorbar(agg_df[iv],agg_df['i_WDR_mean_rate']['mean'],agg_df['i_WDR_mean_rate']['std'],color = cmap[2])"
   ]
  },
  {
   "cell_type": "code",
   "execution_count": 49,
   "metadata": {},
   "outputs": [],
   "source": [
    "heat_ctrl_input = inputs[25]"
   ]
  },
  {
   "cell_type": "code",
   "execution_count": 50,
   "metadata": {},
   "outputs": [
    {
     "ename": "KeyError",
     "evalue": "'pr_noci'",
     "output_type": "error",
     "traceback": [
      "\u001b[0;31m---------------------------------------------------------------------------\u001b[0m",
      "\u001b[0;31mKeyError\u001b[0m                                  Traceback (most recent call last)",
      "\u001b[0;32m<ipython-input-50-ebe9cbb733dc>\u001b[0m in \u001b[0;36m<module>\u001b[0;34m\u001b[0m\n\u001b[1;32m      1\u001b[0m \u001b[0mnet\u001b[0m\u001b[0;34m.\u001b[0m\u001b[0mrestore\u001b[0m\u001b[0;34m(\u001b[0m\u001b[0;34m)\u001b[0m\u001b[0;34m\u001b[0m\u001b[0;34m\u001b[0m\u001b[0m\n\u001b[0;32m----> 2\u001b[0;31m \u001b[0mcost\u001b[0m\u001b[0;34m,\u001b[0m \u001b[0mobserved_spikes\u001b[0m \u001b[0;34m=\u001b[0m \u001b[0mdh\u001b[0m\u001b[0;34m.\u001b[0m\u001b[0mrun_sim\u001b[0m\u001b[0;34m(\u001b[0m\u001b[0msim_objects\u001b[0m\u001b[0;34m,\u001b[0m \u001b[0mheat_ctrl_input\u001b[0m\u001b[0;34m,\u001b[0m \u001b[0mtarget_outputs\u001b[0m\u001b[0;34m,\u001b[0m \u001b[0mdh\u001b[0m\u001b[0;34m.\u001b[0m\u001b[0mmean_spike_count_cost_func\u001b[0m\u001b[0;34m)\u001b[0m\u001b[0;34m\u001b[0m\u001b[0;34m\u001b[0m\u001b[0m\n\u001b[0m",
      "\u001b[0;32m~/code/py/dh_model/dh_model.py\u001b[0m in \u001b[0;36mrun_sim\u001b[0;34m(sim_objects, inputs, target_outputs, cost_func)\u001b[0m\n\u001b[1;32m    354\u001b[0m         \u001b[0;31m# sim_objects: dictionary with fields 'network','neuron_group_list','afferent_group_list','synapse_list'\u001b[0m\u001b[0;34m\u001b[0m\u001b[0;34m\u001b[0m\u001b[0;34m\u001b[0m\u001b[0m\n\u001b[1;32m    355\u001b[0m \u001b[0;34m\u001b[0m\u001b[0m\n\u001b[0;32m--> 356\u001b[0;31m         \u001b[0mI_ex_full\u001b[0m\u001b[0;34m,\u001b[0m \u001b[0mag_inputs_full\u001b[0m \u001b[0;34m=\u001b[0m \u001b[0mconcat_inputs\u001b[0m\u001b[0;34m(\u001b[0m\u001b[0minputs\u001b[0m\u001b[0;34m,\u001b[0m\u001b[0msim_objects\u001b[0m\u001b[0;34m)\u001b[0m\u001b[0;34m\u001b[0m\u001b[0;34m\u001b[0m\u001b[0m\n\u001b[0m\u001b[1;32m    357\u001b[0m         \u001b[0;32mfor\u001b[0m \u001b[0mnt\u001b[0m\u001b[0;34m,\u001b[0m\u001b[0mng\u001b[0m \u001b[0;32min\u001b[0m \u001b[0msim_objects\u001b[0m\u001b[0;34m[\u001b[0m\u001b[0;34m'neuron_groups'\u001b[0m\u001b[0;34m]\u001b[0m\u001b[0;34m.\u001b[0m\u001b[0mitems\u001b[0m\u001b[0;34m(\u001b[0m\u001b[0;34m)\u001b[0m\u001b[0;34m:\u001b[0m\u001b[0;34m\u001b[0m\u001b[0;34m\u001b[0m\u001b[0m\n\u001b[1;32m    358\u001b[0m                 \u001b[0mng\u001b[0m\u001b[0;34m.\u001b[0m\u001b[0mset_I_ex_from_array\u001b[0m\u001b[0;34m(\u001b[0m\u001b[0mI_ex_full\u001b[0m\u001b[0;34m[\u001b[0m\u001b[0mnt\u001b[0m\u001b[0;34m]\u001b[0m\u001b[0;34m,\u001b[0m\u001b[0msim_objects\u001b[0m\u001b[0;34m[\u001b[0m\u001b[0;34m'sim_dt'\u001b[0m\u001b[0;34m]\u001b[0m\u001b[0;34m)\u001b[0m\u001b[0;34m\u001b[0m\u001b[0;34m\u001b[0m\u001b[0m\n",
      "\u001b[0;32m~/code/py/dh_model/dh_model.py\u001b[0m in \u001b[0;36mconcat_inputs\u001b[0;34m(inputs, sim_objects)\u001b[0m\n\u001b[1;32m    241\u001b[0m                 \u001b[0mI_ex_arrays\u001b[0m\u001b[0;34m[\u001b[0m\u001b[0mnt\u001b[0m\u001b[0;34m]\u001b[0m\u001b[0;34m=\u001b[0m\u001b[0;34m[\u001b[0m\u001b[0;34m]\u001b[0m\u001b[0;34m\u001b[0m\u001b[0;34m\u001b[0m\u001b[0m\n\u001b[1;32m    242\u001b[0m                 \u001b[0;32mfor\u001b[0m \u001b[0mtrial\u001b[0m\u001b[0;34m,\u001b[0m\u001b[0mthis_input\u001b[0m \u001b[0;32min\u001b[0m \u001b[0minputs\u001b[0m\u001b[0;34m.\u001b[0m\u001b[0mitems\u001b[0m\u001b[0;34m(\u001b[0m\u001b[0;34m)\u001b[0m\u001b[0;34m:\u001b[0m\u001b[0;34m\u001b[0m\u001b[0;34m\u001b[0m\u001b[0m\n\u001b[0;32m--> 243\u001b[0;31m                         \u001b[0mI_ex_arrays\u001b[0m\u001b[0;34m[\u001b[0m\u001b[0mnt\u001b[0m\u001b[0;34m]\u001b[0m\u001b[0;34m.\u001b[0m\u001b[0mappend\u001b[0m\u001b[0;34m(\u001b[0m\u001b[0mthis_input\u001b[0m\u001b[0;34m[\u001b[0m\u001b[0mnt\u001b[0m\u001b[0;34m]\u001b[0m\u001b[0;34m[\u001b[0m\u001b[0;34m'I_ex'\u001b[0m\u001b[0;34m]\u001b[0m\u001b[0;34m)\u001b[0m\u001b[0;34m\u001b[0m\u001b[0;34m\u001b[0m\u001b[0m\n\u001b[0m\u001b[1;32m    244\u001b[0m                 \u001b[0mI_ex_arrays\u001b[0m\u001b[0;34m[\u001b[0m\u001b[0mnt\u001b[0m\u001b[0;34m]\u001b[0m \u001b[0;34m=\u001b[0m \u001b[0mnp\u001b[0m\u001b[0;34m.\u001b[0m\u001b[0mconcatenate\u001b[0m\u001b[0;34m(\u001b[0m\u001b[0mI_ex_arrays\u001b[0m\u001b[0;34m[\u001b[0m\u001b[0mnt\u001b[0m\u001b[0;34m]\u001b[0m\u001b[0;34m)\u001b[0m\u001b[0;34m\u001b[0m\u001b[0;34m\u001b[0m\u001b[0m\n\u001b[1;32m    245\u001b[0m         \u001b[0;31m#need to test\u001b[0m\u001b[0;34m\u001b[0m\u001b[0;34m\u001b[0m\u001b[0;34m\u001b[0m\u001b[0m\n",
      "\u001b[0;31mKeyError\u001b[0m: 'pr_noci'"
     ]
    }
   ],
   "source": [
    "net.restore()\n",
    "cost, observed_spikes = dh.run_sim(sim_objects, heat_ctrl_input, target_outputs, dh.mean_spike_count_cost_func)"
   ]
  },
  {
   "cell_type": "code",
   "execution_count": 79,
   "metadata": {},
   "outputs": [
    {
     "data": {
      "text/plain": [
       "(0, 300)"
      ]
     },
     "execution_count": 79,
     "metadata": {},
     "output_type": "execute_result"
    },
    {
     "data": {
      "image/png": "[encoded data removed]",
      "text/plain": [
       "<Figure size 864x576 with 1 Axes>"
      ]
     },
     "metadata": {},
     "output_type": "display_data"
    }
   ],
   "source": [
    "cmap = sns.color_palette('hls',4)\n",
    "f,ax = plt.subplots(1,1,figsize = (12,8), sharex = True)\n",
    "y_bias = 0\n",
    "for j,(ct,spike_mon) in enumerate(spike_mons.items()):\n",
    "    ax.plot(spike_mon.t/br.ms, spike_mon.i + y_bias,'.', color = cmap[j],alpha = 1);\n",
    "    y_bias += ngs[ct].N\n",
    "plt.tight_layout()\n",
    "\n",
    "ax.set_ylim((ax.get_ylim()[-1],ax.get_ylim()[0]))\n",
    "ax.set_xlim((0,net.t/br.ms))\n",
    "ax.set_xlim((0,300))"
   ]
  },
  {
   "cell_type": "code",
   "execution_count": 97,
   "metadata": {},
   "outputs": [
    {
     "data": {
      "text/plain": [
       "(40, 10000)"
      ]
     },
     "execution_count": 97,
     "metadata": {},
     "output_type": "execute_result"
    }
   ],
   "source": []
  },
  {
   "cell_type": "code",
   "execution_count": null,
   "metadata": {},
   "outputs": [],
   "source": [
    "cmap = sns.color_palette('hls',4)\n",
    "f,ax = plt.subplots(1,1,figsize = (12,8), sharex = True)\n",
    "y_bias = 0\n",
    "for j,(ct,spike_mon) in enumerate(spike_mons.items()):\n",
    "    ax.plot(spike_mon.t/br.ms, spike_mon.i + y_bias,'.', color = cmap[j],alpha = 1);\n",
    "    y_bias += ngs[ct].N\n",
    "plt.tight_layout()\n",
    "\n",
    "ax.set_ylim((ax.get_ylim()[-1],ax.get_ylim()[0]))\n",
    "ax.set_xlim((0,net.t/br.ms))\n",
    "ax.set_xlim((0,300))"
   ]
  },
  {
   "cell_type": "code",
   "execution_count": 100,
   "metadata": {},
   "outputs": [
    {
     "data": {
      "text/plain": [
       "(20, 10000)"
      ]
     },
     "execution_count": 100,
     "metadata": {},
     "output_type": "execute_result"
    }
   ],
   "source": [
    "state_mon.v.shape"
   ]
  },
  {
   "cell_type": "code",
   "execution_count": 106,
   "metadata": {},
   "outputs": [
    {
     "data": {
      "image/png": "[encoded data removed]",
      "text/plain": [
       "<Figure size 864x576 with 3 Axes>"
      ]
     },
     "metadata": {},
     "output_type": "display_data"
    }
   ],
   "source": [
    "cmap = sns.color_palette('hls',4)\n",
    "f,ax = plt.subplots(3,1,figsize = (12,8), sharex = True)\n",
    "ax = ax.flatten()\n",
    "y_bias = 0\n",
    "for j,(ct,state_mon) in enumerate(states.items()):\n",
    "    ax[j].plot(state_mon.t/br.ms, state_mon.v[0,:], color = cmap[j]);\n",
    "#     y_bias += ngs[ct].N\n",
    "    ax[j].set_xlim((0,200))\n",
    "    y_bias+=1\n",
    "plt.tight_layout()\n",
    "\n",
    "# ax.set_ylim((ax.get_ylim()[-1],ax.get_ylim()[0]))\n",
    "# ax.set_xlim((0,net.t/br.ms))"
   ]
  },
  {
   "cell_type": "code",
   "execution_count": null,
   "metadata": {},
   "outputs": [],
   "source": [
    "bins = np.arange(0,net.t/br.ms,10)\n",
    "cmap = sns.color_palette('hls',4)\n",
    "f,ax = plt.subplots(3,1,figsize = (12,8), sharex = True)\n",
    "ax = ax.flatten()\n",
    "y_bias = 0\n",
    "for j,(ct,spike_mon) in enumerate(spike_mons.items()):\n",
    "    sns.distplot(spike_mon.t/br.ms, ax = ax[j], bins = bins, color = cmap[j])\n",
    "plt.tight_layout()\n",
    "\n",
    "# ax.set_ylim((ax.get_ylim()[-1],ax.get_ylim()[0]))\n",
    "# ax.set_xlim((0,net.t/br.ms))"
   ]
  },
  {
   "cell_type": "code",
   "execution_count": null,
   "metadata": {},
   "outputs": [],
   "source": [
    "cmap = sns.color_palette('hls',4)\n",
    "f,ax = plt.subplots(1,1,figsize = (8,8), sharex = True)\n",
    "y_bias = 0\n",
    "for j,(ct,spike_mon) in enumerate(spike_mons.items()):\n",
    "    ax.plot(spike_mon.t/ms, spike_mon.i + y_bias,'.', color = cmap[j],alpha = 1);\n",
    "    y_bias += ngs[ct].N\n",
    "plt.tight_layout()\n",
    "\n",
    "ax.set_ylim((ax.get_ylim()[-1],ax.get_ylim()[0]))\n",
    "ax.set_xlim((0,net.t/ms))"
   ]
  },
  {
   "cell_type": "code",
   "execution_count": null,
   "metadata": {},
   "outputs": [],
   "source": [
    "update_funcs = {}\n",
    "# ng_vpl= [('pr_WDR','E_l'),('e_WDR','E_l')]\n",
    "# update_funcs.update(gen_intrinsics_update_funcs(ngs,ng_vpl))\n",
    "update_funcs.update(gen_s_w_update_funcs(s))"
   ]
  },
  {
   "cell_type": "code",
   "execution_count": null,
   "metadata": {},
   "outputs": [],
   "source": [
    "global tracker\n",
    "tracker ={}\n",
    "tracker['beta'] = []\n",
    "tracker['observed_spikes'] =[]\n",
    "tracker['cost']=[]\n",
    "opts = {}\n",
    "opts['tracker'] = tracker\n",
    "opts['track'] = True\n",
    "opts['verbose'] = True\n",
    "\n",
    "bounds = [(0,5)] * 6 + [(0,1)] * 3\n",
    "\n",
    "res = op.differential_evolution(func = dh.fit_network,bounds = bounds,\n",
    "    args = [update_funcs, sim_objects, inputs, target_outputs, dh.mean_spike_count_cost_func, opts],polish = False,\n",
    "    maxiter = 30)"
   ]
  },
  {
   "cell_type": "code",
   "execution_count": null,
   "metadata": {},
   "outputs": [],
   "source": [
    "def calc_pop_rates_per_trial(spks,num_trials,duration):\n",
    "    ng_counts = {}\n",
    "    ng_counts_avg ={}\n",
    "    for nt,spikemon in spks.items():\n",
    "        trial_start = 0 * ms\n",
    "        spike_trains = spikemon.spike_trains()\n",
    "        ng_counts[nt] = np.zeros((len(spike_trains.keys()),num_trials))\n",
    "        ng_counts_avg[nt] = np.zeros((num_trials))\n",
    "        for trial in range(num_trials):\n",
    "            trial_end = trial_start + duration\n",
    "            for n,times in spike_trains.items():\n",
    "                this_count = sum((times>=trial_start) & (times<trial_end))\n",
    "                ng_counts[nt][n,trial]= this_count\n",
    "            ng_counts_avg[nt][trial] = ng_counts[nt][:,trial].mean()\n",
    "            trial_start += duration\n",
    "    return ng_counts,ng_counts_avg\n",
    "\n",
    "def cost_func(target_ng_rates, measured_ng_rates, nts = ['pr_noci','pr_WDR']):\n",
    "    cost = 0.\n",
    "    for nt in nts:\n",
    "        cost += sum((target_ng_rates[nt] - measured_ng_rates[nt])**2) **0.5\n",
    "    return cost"
   ]
  },
  {
   "cell_type": "code",
   "execution_count": null,
   "metadata": {},
   "outputs": [],
   "source": [
    "st = spike_mons['i_WDR'].spike_trains()[0]\n",
    "trial_start = 20*ms\n",
    "trial_end = 50 * ms\n",
    "st[(st>=trial_start) & (st<trial_end)]"
   ]
  },
  {
   "cell_type": "code",
   "execution_count": null,
   "metadata": {},
   "outputs": [],
   "source": [
    "trialwise_spikes = get_trialwise_spikes(inputs, sim_objects)\n",
    "trialwise_spikes[0]['i_WDR']"
   ]
  },
  {
   "cell_type": "code",
   "execution_count": null,
   "metadata": {},
   "outputs": [],
   "source": []
  },
  {
   "cell_type": "code",
   "execution_count": null,
   "metadata": {},
   "outputs": [],
   "source": []
  },
  {
   "cell_type": "code",
   "execution_count": null,
   "metadata": {},
   "outputs": [],
   "source": []
  },
  {
   "cell_type": "code",
   "execution_count": null,
   "metadata": {},
   "outputs": [],
   "source": [
    "target_outputs"
   ]
  },
  {
   "cell_type": "code",
   "execution_count": null,
   "metadata": {},
   "outputs": [],
   "source": []
  },
  {
   "cell_type": "code",
   "execution_count": null,
   "metadata": {},
   "outputs": [],
   "source": [
    "inputs[0]['pr_noci']"
   ]
  },
  {
   "cell_type": "code",
   "execution_count": null,
   "metadata": {},
   "outputs": [],
   "source": [
    "\n"
   ]
  },
  {
   "cell_type": "code",
   "execution_count": null,
   "metadata": {},
   "outputs": [],
   "source": [
    "def adjust_params_and_rerun(net, ngs, ags, s, beta):\n",
    "    net.restore()\n",
    "    \n",
    "    for name, w_mu in beta.items():\n",
    "        for syn in s:\n",
    "            if syn.name == name:\n",
    "                syn.w = (w_mu + 0.000001 * randn(syn.w.shape[0]))* nS\n",
    "                syn.w['w < 0 * nS'] = 0 * nS\n",
    "                \n",
    "    #resetting\n",
    "    for trial in range(num_trials):\n",
    "        for nt,ng in ngs.items():\n",
    "            ng.reset_variables()\n",
    "        for at,ag in ags.items():\n",
    "            this_rate = ag_rates[at][trial]\n",
    "            psth, time_bins = uniform_psth()\n",
    "            rates = np.ones((ag.N)) * this_rate\n",
    "            spikes,ind = generate_population_spikes(psth,rates)\n",
    "            ag.set_spikes(indices = ind, times = spikes + net.t)\n",
    "        net.run(duration)\n",
    "\n",
    "\n",
    "    ng_counts,ng_counts_avg = calc_pop_rates_per_trial(spks,num_trials,duration)\n",
    "    measured_ng_rates = {}\n",
    "    for nt,counts_avg in ng_counts_avg.items():\n",
    "        measured_ng_rates[nt] = counts_avg / duration*second    \n",
    "    return measured_ng_rates\n",
    "\n",
    "def run_network_change_syn(x, net, ngs, ags, s, free_s_params, target_ng_rates):\n",
    "    beta = {}\n",
    "    for free_s_param,this_x in zip(free_s_params,x):\n",
    "        beta[free_s_param] = this_x\n",
    "    measured_ng_rates = adjust_params_and_rerun(net, ngs, ags, s, beta)\n",
    "    cost = cost_func(target_ng_rates, measured_ng_rates, nts = ['pr_noci','pr_WDR'])\n",
    "    \n",
    "#     beta_.append(x)\n",
    "#     rates_.append(rates)\n",
    "#     cost_.append(cost)\n",
    "    print(x, cost)\n",
    "\n",
    "    return cost"
   ]
  },
  {
   "cell_type": "code",
   "execution_count": null,
   "metadata": {},
   "outputs": [],
   "source": [
    "bounds = [(0.5,8),(0.5,8),(0.5,8),(0.5,8),(0.5,8),(0.5,8)]\n",
    "bounds = [(0.5,8)] * len(free_s_params)\n",
    "res = op.differential_evolution(func = run_network_change_syn,bounds = bounds,\n",
    "                                args = [net, ngs,ags,s,free_s_params,target_ng_rates],polish = False,\n",
    "                                maxiter = 1)"
   ]
  },
  {
   "cell_type": "code",
   "execution_count": null,
   "metadata": {},
   "outputs": [],
   "source": []
  },
  {
   "cell_type": "code",
   "execution_count": null,
   "metadata": {},
   "outputs": [],
   "source": [
    "ng_counts,ng_counts_avg = calc_pop_rates_per_trial(spks,num_trials,duration)\n",
    "measured_ng_rates = {}\n",
    "for nt,counts_avg in ng_counts_avg.items():\n",
    "    measured_ng_rates[nt] = counts_avg / duration*second    "
   ]
  },
  {
   "cell_type": "code",
   "execution_count": null,
   "metadata": {},
   "outputs": [],
   "source": [
    "cost_func(target_ng_rates,measured_ng_rates)"
   ]
  },
  {
   "cell_type": "code",
   "execution_count": null,
   "metadata": {},
   "outputs": [],
   "source": [
    "ng_counts_avg['pr_noci']"
   ]
  },
  {
   "cell_type": "code",
   "execution_count": null,
   "metadata": {
    "scrolled": false
   },
   "outputs": [],
   "source": [
    "cmap = sns.color_palette('hls',4)\n",
    "f,ax = plt.subplots(1,1,figsize = (8,8), sharex = True)\n",
    "y_bias = 0\n",
    "for i,(ct,spike_mon) in enumerate(spks.items()):\n",
    "    ax.plot(spike_mon.t/ms, spike_mon.i + y_bias,'.', color = cmap[i],alpha = 1);\n",
    "    y_bias += ngs[ct].N\n",
    "plt.tight_layout()\n",
    "\n",
    "ax.set_ylim((ax.get_ylim()[-1],ax.get_ylim()[0]))\n",
    "ax.set_xlim((0,net.t/ms))"
   ]
  },
  {
   "cell_type": "code",
   "execution_count": null,
   "metadata": {},
   "outputs": [],
   "source": [
    "\n",
    "f,ax = plt.subplots(1,1,figsize = (8,8), sharex = True)\n",
    "for z,(nt,counts) in enumerate(ng_counts.items()):\n",
    "    ax.plot(np.arange(num_trials),counts.mean(axis=0),'-o',color = cmap[z])\n",
    "        "
   ]
  },
  {
   "cell_type": "code",
   "execution_count": null,
   "metadata": {},
   "outputs": [],
   "source": [
    "counts.mean(axis = 0)"
   ]
  },
  {
   "cell_type": "code",
   "execution_count": null,
   "metadata": {},
   "outputs": [],
   "source": [
    "net.t/duration"
   ]
  },
  {
   "cell_type": "code",
   "execution_count": null,
   "metadata": {},
   "outputs": [],
   "source": [
    "outrate = poprates['pr_noci'].smooth_rate(width = 100 *ms)"
   ]
  },
  {
   "cell_type": "code",
   "execution_count": null,
   "metadata": {},
   "outputs": [],
   "source": [
    "spks['e_grp'].t"
   ]
  },
  {
   "cell_type": "code",
   "execution_count": null,
   "metadata": {},
   "outputs": [],
   "source": [
    "#restoring\n",
    "hold_spikes = {}\n",
    "for nt in ngs.keys():\n",
    "    hold_spikes[nt] = {'ind':[],'spikes':[]}\n",
    "for trial in range(num_trials):\n",
    "    net.restore()\n",
    "    for at,ag in ags.items():\n",
    "        this_rate = ag_rates[at][trial]\n",
    "        psth, time_bins = uniform_psth()\n",
    "        rates = np.ones((ag.N)) * this_rate\n",
    "        spikes,ind = generate_population_spikes(psth,rates)\n",
    "        ag.set_spikes(indices = ind, times = spikes)\n",
    "    net.run(duration, profile = True, report = 'text')\n",
    "    \n",
    "    for nt in ngs.keys():\n",
    "        hold_spikes[nt]['ind'].append(ind.copy())\n",
    "        hold_spikes[nt]['spikes'].append(spikes.copy())"
   ]
  },
  {
   "cell_type": "code",
   "execution_count": null,
   "metadata": {},
   "outputs": [],
   "source": []
  },
  {
   "cell_type": "code",
   "execution_count": null,
   "metadata": {},
   "outputs": [],
   "source": [
    "af_cts = ['AB_ltmr']\n",
    "af_ngs = {}\n",
    "af_params = {}\n",
    "ct ='AB_ltmr'\n",
    "constructor = afferent_group()\n",
    "constructor.select_cell_type(ct)\n",
    "constructor.add_stim('electrical', start_time = 10 * ms)\n",
    "constructor.params['outputs']['e_nts']['p'] = 1\n",
    "constructor.params['outputs']['e_nts']['w_mu'] = 0.5 * nS\n",
    "constructor.params['outputs']['e_nts']['w_sigma'] = 0.01 * nS\n",
    "constructor.params['outputs']['e_tac2']['p'] = 1\n",
    "constructor.params['outputs']['e_tac2']['w_mu'] = 0.5 * nS\n",
    "constructor.params['outputs']['i_pv']['p'] = 1\n",
    "constructor.params['outputs']['i_pv']['w_mu'] = 0.5 * nS\n",
    "af_ngs[ct], af_params[ct] = constructor.generate_afferent_group()\n",
    "af_params['AB_ltmr']"
   ]
  },
  {
   "cell_type": "code",
   "execution_count": null,
   "metadata": {},
   "outputs": [],
   "source": [
    "af_cts = ['AB_ltmr']\n",
    "af_ngs = {}\n",
    "af_params = {}\n",
    "for ct in af_cts:\n",
    "    constructor = afferent_group()\n",
    "    constructor.select_cell_type(ct)\n",
    "    constructor.add_stim('electrical', start_time = 10 * ms)\n",
    "    constructor.params['outputs']['e_nts']['p'] = 1\n",
    "    constructor.params['outputs']['e_nts']['w_mu'] = 0.5 * nS\n",
    "    constructor.params['outputs']['e_nts']['w_sigma'] = 0.01 * nS\n",
    "    constructor.params['outputs']['e_tac2']['p'] = 1\n",
    "    constructor.params['outputs']['e_tac2']['w_mu'] = 0.5 * nS\n",
    "    constructor.params['outputs']['e_tac2']['w_sigma'] = 0.01 * nS\n",
    "    constructor.params['outputs']['i_pv']['p'] = 1\n",
    "    constructor.params['outputs']['i_pv']['w_mu'] = 0.5 * nS\n",
    "    constructor.params['outputs']['i_pv']['w_sigma'] = 0.01 * nS\n",
    "    af_ngs[ct], af_params[ct] = constructor.generate_afferent_group()\n",
    "\n",
    "default_e = {'p':1,'w_mu':1*nS, 'w_sigma':0.01*nS, 'conductance_name':'e'}\n",
    "default_i = {'p':1,'w_mu':1*nS, 'w_sigma':0.01*nS, 'conductance_name':'i'}\n",
    "\n",
    "cts = ['e_nts','e_tac2','i_pv']\n",
    "ngs = {}\n",
    "params = {}\n",
    "i_ex = {}\n",
    "\n",
    "ct = 'e_nts'\n",
    "constructor = neuron_group_constructor()\n",
    "constructor.select_cell_type(ct)\n",
    "constructor.params['N'] = 20\n",
    "ngs[ct], params[ct], i_ex[ct] = constructor.generate_neuron_group()\n",
    "params[ct]['outputs']['e_tac2'] = default_e.copy()\n",
    "params[ct]['outputs']['e_tac2']['w_mu'] = 1 * nS\n",
    "params[ct]['outputs']['e_nts'] = default_e.copy()\n",
    "params[ct]['outputs']['e_nts']['w_mu'] = 1 * nS\n",
    "params[ct]['outputs']['i_pv'] = default_e.copy()\n",
    "params[ct]['outputs']['i_pv']['w_mu'] = 1 * nS\n",
    "\n",
    "ct = 'e_tac2'\n",
    "constructor = neuron_group_constructor()\n",
    "constructor.select_cell_type(ct)\n",
    "constructor.params['N'] = 20\n",
    "ngs[ct], params[ct], i_ex[ct] = constructor.generate_neuron_group()\n",
    "params[ct]['outputs']['e_tac2']= default_e.copy()\n",
    "params[ct]['outputs']['e_tac2']['w_mu'] = 1 * nS\n",
    "params[ct]['outputs']['e_nts']= default_e.copy()\n",
    "params[ct]['outputs']['e_nts']['w_mu'] = 1 * nS\n",
    "params[ct]['outputs']['i_pv'] = default_e.copy()\n",
    "params[ct]['outputs']['i_pv']['w_mu'] = 1 * nS\n",
    "\n",
    "ct = 'i_pv'\n",
    "constructor = neuron_group_constructor()\n",
    "constructor.select_cell_type(ct)\n",
    "constructor.params['N'] = 20\n",
    "ngs[ct], params[ct], i_ex[ct] = constructor.generate_neuron_group()\n",
    "params[ct]['outputs']['e_tac2']= default_i.copy()\n",
    "params[ct]['outputs']['e_tac2']['w_mu'] = 1 * nS\n",
    "params[ct]['outputs']['e_nts']= default_i.copy()\n",
    "params[ct]['outputs']['e_nts']['w_mu'] = 1 * nS\n",
    "params[ct]['outputs']['i_pv'] = default_i.copy()\n",
    "params[ct]['outputs']['i_pv']['w_mu'] = 1 * nS\n",
    "\n",
    "\n",
    "spikes = {}\n",
    "for cell_type in params:\n",
    "    spikes[cell_type]= SpikeMonitor(ngs[cell_type], record=True)    \n",
    "\n",
    "synapses=[]\n",
    "for pre, outputs in params.items():\n",
    "    for post in outputs['outputs']:\n",
    "        if post in params.keys():\n",
    "            synapses.append(connect_neuron_groups(ngs[pre], ngs[post],**outputs['outputs'][post]))\n",
    "\n",
    "for pre, outputs in af_params.items():\n",
    "    for post in outputs['outputs']:\n",
    "        if post in params.keys():\n",
    "                synapses.append(connect_neuron_groups(af_ngs[pre], ngs[post],**outputs['outputs'][post]))\n",
    "\n",
    "for ct in cts:\n",
    "    initialize_I_ex(ngs[ct], i_ex[ct])\n",
    "\n",
    "net = Network(ngs,spikes,synapses,af_ngs)\n",
    "net.store()\n"
   ]
  },
  {
   "cell_type": "code",
   "execution_count": null,
   "metadata": {},
   "outputs": [],
   "source": [
    "beta = np.array([1,1,1,1,1,1,5,0.3,0.3])\n",
    "change_S_and_rerun(net, synapses, beta)"
   ]
  },
  {
   "cell_type": "code",
   "execution_count": null,
   "metadata": {},
   "outputs": [],
   "source": [
    "global beta_\n",
    "global rates_\n",
    "global cost_\n",
    "beta_ = []\n",
    "rates_ = []\n",
    "cost_ = []"
   ]
  },
  {
   "cell_type": "code",
   "execution_count": null,
   "metadata": {},
   "outputs": [],
   "source": [
    "def change_S_and_rerun(net, synapses, beta):\n",
    "    net.restore()\n",
    "    for n,this_w in enumerate(beta):\n",
    "        synapses[n].w = (this_w + 0.001 * randn(synapses[n].w.shape[0]))* nS\n",
    "        synapses[n].w['w < 0 * nS'] = 0 * nS\n",
    "    net.run(duration)\n",
    "\n",
    "    rates = []\n",
    "    for ct in cts:\n",
    "        rates.append(spikes[ct].t.shape[0]/params[ct]['N'])\n",
    "    rates = np.array(rates)\n",
    "    return rates, spikes\n",
    "\n",
    "def run_network_change_syn(x, net, synapses, target_rates):\n",
    "\n",
    "    rates, spikes = change_S_and_rerun(net, synapses, x)\n",
    "    cost = np.sum((rates-target_rates) **2)\n",
    "    \n",
    "    beta_.append(x)\n",
    "    rates_.append(rates)\n",
    "    cost_.append(cost)\n",
    "    print(x, rates, cost)\n",
    "    return cost"
   ]
  },
  {
   "cell_type": "code",
   "execution_count": null,
   "metadata": {},
   "outputs": [],
   "source": [
    "\n",
    "\n",
    "def run_3_pop_w_ext_input(beta):\n",
    "    af_cts = ['AB_ltmr']\n",
    "    af_ngs = {}\n",
    "    af_params = {}\n",
    "    for ct in af_cts:\n",
    "        constructor = afferent_group()\n",
    "        constructor.select_cell_type(ct)\n",
    "        constructor.add_stim('electrical', start_time = 10 * ms)\n",
    "        constructor.params['outputs']['e_nts']['p'] = 1\n",
    "        constructor.params['outputs']['e_nts']['w_mu'] = 0.5 * nS\n",
    "        constructor.params['outputs']['e_nts']['w_sigma'] = 0.01 * nS\n",
    "        constructor.params['outputs']['e_tac2']['p'] = 1\n",
    "        constructor.params['outputs']['e_tac2']['w_mu'] = 0.5 * nS\n",
    "        constructor.params['outputs']['e_tac2']['w_sigma'] = 0.01 * nS\n",
    "        constructor.params['outputs']['i_pv']['p'] = 1\n",
    "        constructor.params['outputs']['i_pv']['w_mu'] = 0.5 * nS\n",
    "        constructor.params['outputs']['i_pv']['w_sigma'] = 0.01 * nS\n",
    "        af_ngs[ct], af_params[ct] = constructor.generate_afferent_group()\n",
    "\n",
    "    default_e = {'p':1,'w_mu':1*nS, 'w_sigma':0.01*nS, 'conductance_name':'e'}\n",
    "    default_i = {'p':1,'w_mu':1*nS, 'w_sigma':0.01*nS, 'conductance_name':'i'}\n",
    "\n",
    "    cts = ['e_nts','e_tac2','i_pv']\n",
    "    ngs = {}\n",
    "    params = {}\n",
    "    i_ex = {}\n",
    "\n",
    "    ct = 'e_nts'\n",
    "    constructor = neuron_group_constructor()\n",
    "    constructor.select_cell_type(ct)\n",
    "    constructor.params['N'] = 20\n",
    "    ngs[ct], params[ct], i_ex[ct] = constructor.generate_neuron_group()\n",
    "    params[ct]['outputs']['e_tac2'] = default_e.copy()\n",
    "    params[ct]['outputs']['e_tac2']['w_mu'] = beta[0] * nS\n",
    "    params[ct]['outputs']['e_nts'] = default_e.copy()\n",
    "    params[ct]['outputs']['e_nts']['w_mu'] = beta[1] * nS\n",
    "    params[ct]['outputs']['i_pv'] = default_e.copy()\n",
    "    params[ct]['outputs']['i_pv']['w_mu'] = beta[2] * nS\n",
    "\n",
    "    ct = 'e_tac2'\n",
    "    constructor = neuron_group_constructor()\n",
    "    constructor.select_cell_type(ct)\n",
    "    constructor.params['N'] = 20\n",
    "    ngs[ct], params[ct], i_ex[ct] = constructor.generate_neuron_group()\n",
    "    params[ct]['outputs']['e_tac2']= default_e.copy()\n",
    "    params[ct]['outputs']['e_tac2']['w_mu'] = beta[3] * nS\n",
    "    params[ct]['outputs']['e_nts']= default_e.copy()\n",
    "    params[ct]['outputs']['e_nts']['w_mu'] = beta[4] * nS\n",
    "    params[ct]['outputs']['i_pv'] = default_e.copy()\n",
    "    params[ct]['outputs']['i_pv']['w_mu'] = beta[5] * nS\n",
    "\n",
    "    ct = 'i_pv'\n",
    "    constructor = neuron_group_constructor()\n",
    "    constructor.select_cell_type(ct)\n",
    "    constructor.params['N'] = 20\n",
    "    ngs[ct], params[ct], i_ex[ct] = constructor.generate_neuron_group()\n",
    "    params[ct]['outputs']['e_tac2']= default_i.copy()\n",
    "    params[ct]['outputs']['e_tac2']['w_mu'] = beta[6] * nS\n",
    "    params[ct]['outputs']['e_nts']= default_i.copy()\n",
    "    params[ct]['outputs']['e_nts']['w_mu'] = beta[7] * nS\n",
    "    params[ct]['outputs']['i_pv'] = default_i.copy()\n",
    "    params[ct]['outputs']['i_pv']['w_mu'] = beta[8] * nS\n",
    "\n",
    "    \n",
    "    spikes = {}\n",
    "    for cell_type in params:\n",
    "        spikes[cell_type]= SpikeMonitor(ngs[cell_type], record=True)    \n",
    "\n",
    "    synapses=[]\n",
    "    for pre, outputs in params.items():\n",
    "        for post in outputs['outputs']:\n",
    "            if post in params.keys():\n",
    "                synapses.append(connect_neuron_groups(ngs[pre], ngs[post],**outputs['outputs'][post]))\n",
    "\n",
    "    for pre, outputs in af_params.items():\n",
    "        for post in outputs['outputs']:\n",
    "            if post in params.keys():\n",
    "                    synapses.append(connect_neuron_groups(af_ngs[pre], ngs[post],**outputs['outputs'][post]))\n",
    "\n",
    "    for ct in cts:\n",
    "        initialize_I_ex(ngs[ct], i_ex[ct])\n",
    "\n",
    "    net = Network(ngs,spikes,synapses,af_ngs)\n",
    "    net.run(duration)\n",
    "\n",
    "    rates = []\n",
    "    for ct in cts:\n",
    "        rates.append(spikes[ct].t.shape[0]/params[ct]['N'])\n",
    "    rates = np.array(rates)\n",
    "    return rates, spikes\n",
    "\n",
    "def run_network(beta, target_rates):\n",
    "    rates, spikes = run_3_pop_w_ext_input(beta)\n",
    "    cost = np.sum((rates-target_rates) **2)\n",
    "    print(beta, cost)\n",
    "    return cost"
   ]
  },
  {
   "cell_type": "code",
   "execution_count": null,
   "metadata": {
    "scrolled": true
   },
   "outputs": [],
   "source": [
    "target_rates = np.array([15,5,16])\n",
    "bounds = [(0.1,3),(0.1,3),(0.1,3),(0.1,3),(0.1,3),(0.1,3),(0.1,3),(0.1,3),(0.1,3)]\n",
    "res = op.differential_evolution(func = run_network_change_syn,bounds = bounds,\n",
    "                                args = [net, synapses, target_rates],polish = False,\n",
    "                                maxiter = 20)"
   ]
  },
  {
   "cell_type": "code",
   "execution_count": null,
   "metadata": {},
   "outputs": [],
   "source": [
    "f,ax = plt.subplots(3,3,figsize = (12,12))\n",
    "ax = ax.flatten()\n",
    "for n in range(9):\n",
    "    sns.kdeplot(df[n],df['cost'],ax = ax[n])\n",
    "    sns.scatterplot(df[n],df['cost'],alpha = 0.4,ax = ax[n])"
   ]
  },
  {
   "cell_type": "code",
   "execution_count": null,
   "metadata": {},
   "outputs": [],
   "source": [
    "df = pd.DataFrame(np.stack(beta_))\n",
    "df['cost'] = np.array(cost_)\n"
   ]
  },
  {
   "cell_type": "code",
   "execution_count": null,
   "metadata": {},
   "outputs": [],
   "source": []
  },
  {
   "cell_type": "code",
   "execution_count": null,
   "metadata": {},
   "outputs": [],
   "source": [
    "beta_true = np.array([1.19, 0.68, 1.4, 1.5, 0.73, 2.96,\n",
    " 0.38, 1.60, 2.18])\n",
    "rates, spikes = run_3_pop_w_ext_input(beta_true)"
   ]
  },
  {
   "cell_type": "code",
   "execution_count": null,
   "metadata": {},
   "outputs": [],
   "source": [
    "\n",
    "# net.add()\n",
    "net.store()"
   ]
  },
  {
   "cell_type": "code",
   "execution_count": null,
   "metadata": {},
   "outputs": [],
   "source": [
    "net.restore()"
   ]
  },
  {
   "cell_type": "code",
   "execution_count": null,
   "metadata": {},
   "outputs": [],
   "source": []
  },
  {
   "cell_type": "code",
   "execution_count": null,
   "metadata": {},
   "outputs": [],
   "source": []
  },
  {
   "cell_type": "code",
   "execution_count": null,
   "metadata": {},
   "outputs": [],
   "source": [
    "bins = np.arange(0,duration/ms,1)\n",
    "cmap = sns.color_palette(\"hls\", 15)\n",
    "f,ax = plt.subplots(len(spikes),1,figsize = (8,16), sharex = True)\n",
    "for i,(ct,spike_mon) in enumerate(spikes.items()):\n",
    "    sns.distplot(spike_mon.t/ms, ax = ax[i], bins = bins, color = cmap[i])\n",
    "    ax[i].set_title(ct)\n",
    "plt.tight_layout()"
   ]
  },
  {
   "cell_type": "code",
   "execution_count": null,
   "metadata": {},
   "outputs": [],
   "source": [
    "f,ax = plt.subplots(1,1,figsize = (8,8), sharex = True)\n",
    "y_bias = 0\n",
    "for i,(ct,spike_mon) in enumerate(spikes.items()):\n",
    "    ax.plot(spike_mon.t/ms, spike_mon.i + y_bias,'.', color = cmap[i],alpha = 0.5);\n",
    "    y_bias += params[ct]['N']\n",
    "plt.tight_layout()\n",
    "\n",
    "ax.set_ylim((ax.get_ylim()[-1],ax.get_ylim()[0]))"
   ]
  },
  {
   "cell_type": "code",
   "execution_count": null,
   "metadata": {},
   "outputs": [],
   "source": [
    "\n",
    "ct = 'pep1'\n",
    "constructor = afferent_group()\n",
    "constructor.select_cell_type(ct)\n",
    "constructor.params['N'] = 1\n",
    "constructor.params['outputs']['i_gal']['p'] = 1\n",
    "constructor.params['outputs']['i_gal']['w_mu'] = 7 * nS\n",
    "constructor.add_spikes(indices = array([0]), spikes = array([5])* ms)\n",
    "pre, pre_params = constructor.generate_afferent_group()\n",
    "\n",
    "\n",
    "ct = 'i_gal'\n",
    "ngs = {}\n",
    "params = {}\n",
    "i_ex = {}\n",
    "constructor = neuron_group_constructor()\n",
    "constructor.select_cell_type(ct)\n",
    "constructor.params['N'] = 1\n",
    "constructor.params['intrinsics']['g_l_sigma'] = 0.0001 * nS\n",
    "constructor.params['intrinsics']['tau_e'] = 1 * ms\n",
    "constructor.params['intrinsics']['E_l'] = -70 * mV\n",
    "post, post_params, i_ex = constructor.generate_neuron_group()\n",
    "\n",
    "\n",
    "states= StateMonitor(post, ['v','g_e','g_i'], record=True)\n",
    "spikes= SpikeMonitor(pre, record=True)\n",
    "    \n",
    "syn = connect_neuron_groups(pre, post,**pre_params['outputs']['i_gal'])\n",
    "\n",
    "initialize_I_ex(post, i_ex)\n",
    "\n",
    "net = Network(post,states,spikes,syn,pre)  \n",
    "\n",
    "net.store()"
   ]
  },
  {
   "cell_type": "code",
   "execution_count": null,
   "metadata": {},
   "outputs": [],
   "source": [
    "\n"
   ]
  },
  {
   "cell_type": "code",
   "execution_count": null,
   "metadata": {},
   "outputs": [],
   "source": [
    "net.run(duration, report = 'text',profile = True)"
   ]
  },
  {
   "cell_type": "code",
   "execution_count": null,
   "metadata": {},
   "outputs": [],
   "source": [
    "f,ax = plt.subplots(1,1,figsize = (8,8))\n",
    "ax.plot(states.t/ms, states.v_[0,:]/ms);\n",
    "ax.plot(tb/ms,train_v/ms)\n",
    "plt.xlim((5,20))"
   ]
  },
  {
   "cell_type": "code",
   "execution_count": null,
   "metadata": {},
   "outputs": [],
   "source": [
    "x = [7.1351391, 14.7825336, 2.29645621, 2.4902152]\n",
    "ct = 'pep1'\n",
    "constructor = afferent_group()\n",
    "constructor.select_cell_type(ct)\n",
    "constructor.params['N'] = 1\n",
    "constructor.params['outputs']['i_gal']['p'] = 1\n",
    "constructor.params['outputs']['i_gal']['w_mu'] = x[0] * nS\n",
    "constructor.add_spikes(indices = array([0]), spikes = array([x[1]])* ms)\n",
    "pre, pre_params = constructor.generate_afferent_group()\n",
    "ct = 'i_gal'\n",
    "ngs = {}\n",
    "params = {}\n",
    "i_ex = {}\n",
    "constructor = neuron_group_constructor()\n",
    "constructor.select_cell_type(ct)\n",
    "constructor.params['N'] = 1\n",
    "constructor.params['intrinsics']['g_l_sigma'] = 0.0001 * nS\n",
    "constructor.params['intrinsics']['g_l_mu'] = x[2] * nS\n",
    "constructor.params['intrinsics']['tau_e'] = x[3] * ms\n",
    "constructor.params['intrinsics']['E_l'] = -70 * mV\n",
    "post, post_params, i_ex = constructor.generate_neuron_group()\n",
    "\n",
    "states= StateMonitor(post, ['v','g_e','g_i'], record=True)\n",
    "spikes= SpikeMonitor(pre, record=True)\n",
    "syn = connect_neuron_groups(pre, post,**pre_params['outputs']['i_gal'])\n",
    "\n",
    "initialize_I_ex(post, i_ex)\n",
    "\n",
    "net = Network(post,states,spikes,syn,pre)\n",
    "net.run(duration)\n",
    "fit_v = states.v_[0].copy()"
   ]
  },
  {
   "cell_type": "code",
   "execution_count": null,
   "metadata": {},
   "outputs": [],
   "source": [
    "f,ax = plt.subplots(1,1,figsize = (8,8))\n",
    "ax.plot(states.t/ms, states.v_[0,:]/ms);\n",
    "ax.plot(tb/ms,train_v/ms)\n",
    "# plt.xlim((5,20))"
   ]
  },
  {
   "cell_type": "code",
   "execution_count": null,
   "metadata": {},
   "outputs": [],
   "source": [
    "from scipy import optimize as op\n",
    "def run_network(x, train_v):\n",
    "    print(x)\n",
    "    ct = 'pep1'\n",
    "    constructor = afferent_group()\n",
    "    constructor.select_cell_type(ct)\n",
    "    constructor.params['N'] = 1\n",
    "    constructor.params['outputs']['i_gal']['p'] = 1\n",
    "    constructor.params['outputs']['i_gal']['w_mu'] = x[0] * nS\n",
    "    constructor.add_spikes(indices = array([0]), spikes = array([x[1]])* ms)\n",
    "    pre, pre_params = constructor.generate_afferent_group()\n",
    "    ct = 'i_gal'\n",
    "    ngs = {}\n",
    "    params = {}\n",
    "    i_ex = {}\n",
    "    constructor = neuron_group_constructor()\n",
    "    constructor.select_cell_type(ct)\n",
    "    constructor.params['N'] = 1\n",
    "    constructor.params['intrinsics']['g_l_sigma'] = 0.0001 * nS\n",
    "    constructor.params['intrinsics']['g_l_mu'] = x[2] * nS\n",
    "    constructor.params['intrinsics']['tau_e'] = x[3] * ms\n",
    "    constructor.params['intrinsics']['E_l'] = -70 * mV\n",
    "    post, post_params, i_ex = constructor.generate_neuron_group()\n",
    "\n",
    "    states= StateMonitor(post, ['v','g_e','g_i'], record=True)\n",
    "    spikes= SpikeMonitor(pre, record=True)\n",
    "    syn = connect_neuron_groups(pre, post,**pre_params['outputs']['i_gal'])\n",
    "\n",
    "    initialize_I_ex(post, i_ex)\n",
    "\n",
    "    net = Network(post,states,spikes,syn,pre)\n",
    "    net.run(duration)\n",
    "    fit_v = states.v_[0].copy()\n",
    "    cost = np.sum((fit_v -train_v) **2)\n",
    "    print(x, cost)\n",
    "    return cost"
   ]
  },
  {
   "cell_type": "code",
   "execution_count": null,
   "metadata": {},
   "outputs": [],
   "source": []
  },
  {
   "cell_type": "code",
   "execution_count": null,
   "metadata": {},
   "outputs": [],
   "source": [
    "bounds = [(0.1,30),(13,20),(0.5,5),(0.1,10)]\n",
    "res = op.differential_evolution(func = run_network,bounds = bounds,\n",
    "                                args = [train_v],\n",
    "                                maxiter = 30)"
   ]
  },
  {
   "cell_type": "code",
   "execution_count": null,
   "metadata": {},
   "outputs": [],
   "source": [
    "train_v = states.v_[0]"
   ]
  },
  {
   "cell_type": "code",
   "execution_count": null,
   "metadata": {},
   "outputs": [],
   "source": [
    "from scipy import optimize as op\n",
    "def run_network(x, train_v):\n",
    "    \n",
    "  \n",
    "    print(x)\n",
    "    ct = 'pep1'\n",
    "    constructor = afferent_group()\n",
    "    constructor.select_cell_type(ct)\n",
    "    constructor.params['N'] = 1\n",
    "    constructor.params['outputs']['i_gal']['p'] = 1\n",
    "    constructor.params['outputs']['i_gal']['w_mu'] = x[0] * nS\n",
    "    constructor.params['outputs']['i_gal']['w_sigma'] = 0.0001 * nS\n",
    "    constructor.add_spikes(indices = array([0]), spikes = array([x[1]])* ms)\n",
    "    af_ngs[ct], af_params[ct] = constructor.generate_afferent_group()\n",
    "\n",
    "    cts = ['i_gal']\n",
    "    ngs = {}\n",
    "    params = {}\n",
    "    i_ex = {}\n",
    "    for ct in cts:\n",
    "        constructor = neuron_group_constructor()\n",
    "        constructor.select_cell_type(ct)\n",
    "        constructor.params['N'] = 1\n",
    "        constructor.params['intrinsics']['g_l_sigma'] = 0.0001 * nS\n",
    "        constructor.params['intrinsics']['tau_e'] = x[2] * ms\n",
    "        ngs[ct], params[ct], i_ex[ct] = constructor.generate_neuron_group()\n",
    "\n",
    "    states={}\n",
    "    spikes = {}\n",
    "    for cell_type in params:\n",
    "        states[cell_type]= StateMonitor(ngs[cell_type], ['v','g_e','g_i'], record=True)\n",
    "        spikes[cell_type]= SpikeMonitor(ngs[cell_type], record=True)\n",
    "\n",
    "    synapses=[]\n",
    "\n",
    "    for pre, outputs in af_params.items():\n",
    "        for post in outputs['outputs']:\n",
    "            if post in params.keys():\n",
    "                    print(pre,post)\n",
    "                    synapses.append(connect_neuron_groups(af_ngs[pre], ngs[post],**outputs['outputs'][post]))\n",
    "\n",
    "    for ct in cts:\n",
    "        initialize_I_ex(ngs[ct], i_ex[ct])\n",
    "\n",
    "    net = Network(ngs,states,spikes,synapses,af_ngs)\n",
    "    net.run(duration)\n",
    "    fit_v = states['i_gal'].v_[0].copy()\n",
    "    return np.sum((fit_v -train_v) **2)\n"
   ]
  },
  {
   "cell_type": "code",
   "execution_count": null,
   "metadata": {
    "scrolled": true
   },
   "outputs": [],
   "source": [
    "bounds = [(0,50),(0.1,10),(0.1,10)]\n",
    "res = op.differential_evolution(func = run_network,bounds = bounds,\n",
    "                                args = [train_v],\n",
    "                                maxiter = 30)"
   ]
  },
  {
   "cell_type": "code",
   "execution_count": null,
   "metadata": {},
   "outputs": [],
   "source": [
    "res"
   ]
  },
  {
   "cell_type": "code",
   "execution_count": null,
   "metadata": {
    "scrolled": false
   },
   "outputs": [],
   "source": [
    "cmap = sns.color_palette(\"hls\", 15)\n",
    "f,ax = plt.subplots(len(spikes),1,figsize = (8,16), sharex = True)\n",
    "bins = np.arange(0,duration/ms,1)\n",
    "for n,(ct,spike_mon) in enumerate(spikes.items()):\n",
    "    sns.distplot(spike_mon.t/ms, ax = ax[n], bins = bins, color = cmap[n])\n",
    "    ax[n].set_title(ct)\n",
    "plt.tight_layout()\n"
   ]
  },
  {
   "cell_type": "code",
   "execution_count": null,
   "metadata": {},
   "outputs": [],
   "source": [
    "spikes.items()"
   ]
  },
  {
   "cell_type": "code",
   "execution_count": null,
   "metadata": {},
   "outputs": [],
   "source": []
  },
  {
   "cell_type": "code",
   "execution_count": null,
   "metadata": {
    "scrolled": false
   },
   "outputs": [],
   "source": [
    "f,ax = plt.subplots(len(spikes),1,figsize = (8,20), sharex = True)\n",
    "for i,(ct,spike_mon) in enumerate(spikes.items()):\n",
    "    ax[i].plot(spike_mon.t/ms, spike_mon.i,'.', color = cmap[i],alpha = 0.1);\n",
    "    ax[i].set_title(ct)\n",
    "plt.tight_layout()"
   ]
  },
  {
   "cell_type": "code",
   "execution_count": null,
   "metadata": {},
   "outputs": [],
   "source": [
    "state_mon.v_.shape"
   ]
  },
  {
   "cell_type": "code",
   "execution_count": null,
   "metadata": {},
   "outputs": [],
   "source": [
    "def make_spikes_pretty(spikemon,statemon,spike_height = 0.040):\n",
    "    inds = spikemon.i\n",
    "    time_inds = spikemon.t/sim_dt\n",
    "    time_inds = time_inds.astype(int)\n",
    "    for i,t in zip(inds,time_inds):\n",
    "        statemon.v_[i,t] = spike_height"
   ]
  },
  {
   "cell_type": "code",
   "execution_count": null,
   "metadata": {},
   "outputs": [],
   "source": [
    "f,ax = plt.subplots(len(states),1,figsize = (8,16))\n",
    "for i,(ct,state_mon) in enumerate(states.items()):\n",
    "    make_spikes_pretty(spikes[ct],state_mon)\n",
    "    ax[i].plot(state_mon.t/ms, state_mon.v[0,:]/ms);\n",
    "    ax[i].set_title(ct)"
   ]
  },
  {
   "cell_type": "code",
   "execution_count": null,
   "metadata": {},
   "outputs": [],
   "source": [
    "f,ax = plt.subplots(len(states),1,figsize = (8,8))\n",
    "for i,(ct,state_mon) in enumerate(states.items()):\n",
    "    ax[i].plot(state_mon.t/ms, state_mon.g_i[0,:]/ms);\n",
    "    ax[i].set_title(ct)"
   ]
  },
  {
   "cell_type": "code",
   "execution_count": null,
   "metadata": {},
   "outputs": [],
   "source": [
    "# afferent inputs\n",
    "AB_psth,time_bins = gaussian_psth(mu = 10 * ms, sigma = 1 * ms)\n",
    "AD_psth,time_bins = gaussian_psth(mu = 20 * ms, sigma = 2 * ms)\n",
    "C_psth,time_bins = gaussian_psth(mu = 120 * ms, sigma = 20 * ms)\n",
    "\n",
    "C_spikes, C_ind = generate_population_spikes(C_psth,np.ones(50)*2)\n",
    "AB_spikes, AB_ind = generate_population_spikes(AB_psth,np.ones(10)*5)\n",
    "AD_spikes, AD_ind = generate_population_spikes(AD_psth,np.ones(10)*5)\n",
    "f, ax = plt.subplots(2,1,figsize = (8,8), sharex = True)\n",
    "ax[0].plot(AB_spikes, AB_ind,'.k')\n",
    "ax[0].plot(AD_spikes, AD_ind+10,'.b')\n",
    "ax[0].plot(C_spikes, C_ind+20,'.r')\n",
    "ax[1].plot(time_bins, AB_psth,'k')\n",
    "ax[1].plot(time_bins, AD_psth,'b')\n",
    "ax[1].plot(time_bins, C_psth,'r')"
   ]
  },
  {
   "cell_type": "code",
   "execution_count": null,
   "metadata": {},
   "outputs": [],
   "source": [
    "E_l = -70 * mV\n",
    "E_e = 0 * mV\n",
    "E_i = -70 * mV\n",
    "C_m = 200 * pF\n",
    "V_th = -40 * mV\n",
    "V_r = -50 * mV\n",
    "tau_e = 5 * ms\n",
    "tau_i = 5 * ms\n",
    "tau_r = 1 * ms\n",
    "g_l = 0.5 * nS\n",
    "I_ex = 20 * pA"
   ]
  },
  {
   "cell_type": "code",
   "execution_count": null,
   "metadata": {},
   "outputs": [],
   "source": [
    "# neuron_eqs = Equations('''\n",
    "# dv/dt = (g_l*(E_l-v) + g_e*(E_e-v) + g_i*(E_i-v) +\n",
    "#          I_ex)/C_m    : volt (unless refractory)\n",
    "# dg_e/dt = -g_e/tau_e  : siemens  # post-synaptic exc. conductance\n",
    "# dg_i/dt = -g_i/tau_i  : siemens  # post-synaptic exc. conductance\n",
    "# g_l : siemens (constant)\n",
    "# E_l : volt (constant)\n",
    "# E_e : volt (constant)\n",
    "# E_i : volt (constant)\n",
    "# I_ex : amp\n",
    "# C_m : farad (constant)\n",
    "# tau_i : second (constant)\n",
    "# tau_e : second (constant)\n",
    "# ''')\n",
    "\n",
    "neuron_eqs = Equations('''\n",
    "dv/dt = (g_l*(E_l-v) + g_e*(E_e-v) + g_i*(E_i-v) +\n",
    "         I_ex)/C_m    : volt (unless refractory)\n",
    "dg_e/dt = -g_e/tau_e  : siemens  # post-synaptic exc. conductance\n",
    "dg_i/dt = -g_i/tau_i  : siemens  # post-synaptic exc. conductance\n",
    "I_ex : amp (constant)\n",
    "g_l : siemens (constant)\n",
    "''')\n",
    "\n",
    "# neuron_eqs = '''\n",
    "# dv/dt = (g_l*(E_l-v) + g_e*(E_e-v) + g_i*(E_i-v) +\n",
    "#          I_ex)/C_m    : volt (unless refractory)\n",
    "# dg_e/dt = -g_e/tau_e  : siemens  # post-synaptic exc. conductance\n",
    "# dg_i/dt = -g_i/tau_i  : siemens  # post-synaptic exc. conductance\n",
    "# '''\n",
    "\n",
    "\n",
    "\n",
    "synapses_eqs = Equations('''\n",
    "Omega_f : 1/second\n",
    "Omega_d : 1/second\n",
    "# Usage of releasable neurotransmitter per single action potential:\n",
    "du_S/dt = -Omega_f * u_S     : 1 (event-driven)\n",
    "# Fraction of synaptic neurotransmitter resources available:\n",
    "dx_S/dt = Omega_d *(1 - x_S) : 1 (event-driven)\n",
    "''')\n",
    "synapses_action = '''\n",
    "u_S += U_0 * (1 - u_S)\n",
    "r_S = u_S * x_S\n",
    "x_S -= r_S\n",
    "'''\n",
    "\n",
    "# maybe could switch to system where each synapse has a reversal potential\n",
    "# rather than being excitatory vs inhibitory\n",
    "# using (summed) "
   ]
  },
  {
   "cell_type": "code",
   "execution_count": null,
   "metadata": {},
   "outputs": [],
   "source": [
    "# NG = NeuronGroup(2, model=neuron_eqs,\n",
    "#                  threshold='v>V_th',\n",
    "#                  reset='v=V_r',\n",
    "#                  refractory='tau_r',\n",
    "#                  method = 'euler')\n",
    "params = gen_default_params()\n",
    "NG = NeuronGroup(2, model=neuron_eqs,\n",
    "                 threshold='v>V_th',\n",
    "                 reset='v=V_r',\n",
    "                 refractory='tau_r',\n",
    "                 method = 'euler')\n",
    "for key, value in params.items():\n",
    "    NG.namespace[key] = value\n",
    "\n",
    "NG.g_i = '0 * nS'\n",
    "NG.g_e = '0 * nS'\n",
    "NG.v = '-70 * mV '\n",
    "NG.namespace['I_ex'] = params['I_ex_mu'] + params['I_ex_sigma'] * randn(2)\n",
    "# NG.I_ex = params['I_ex_mu'] + params['I_ex_sigma'] * randn(2)\n",
    "# NG.I_ex = '(I_ex_mu + I_ex_sigma * randn())'\n",
    "state_mon = StateMonitor(NG, ['v','I_ex','g_l'], record=True)"
   ]
  },
  {
   "cell_type": "code",
   "execution_count": null,
   "metadata": {},
   "outputs": [],
   "source": [
    "I_ex = "
   ]
  },
  {
   "cell_type": "code",
   "execution_count": null,
   "metadata": {},
   "outputs": [],
   "source": [
    "NG.g_l = g_l\n",
    "NG.E_l = E_l\n",
    "NG.E_e = E_e\n",
    "NG.E_i = E_i\n",
    "NG.I_ex = I_ex\n",
    "NG.C_m = C_m\n",
    "NG.tau_i = tau_i\n",
    "NG.tau_e = tau_e"
   ]
  },
  {
   "cell_type": "code",
   "execution_count": null,
   "metadata": {},
   "outputs": [],
   "source": [
    "sub_G = NG[0:]\n",
    "sub_G.namespace['I_ex'] = -50 * pA"
   ]
  },
  {
   "cell_type": "code",
   "execution_count": null,
   "metadata": {},
   "outputs": [],
   "source": [
    "run(600 * ms)"
   ]
  },
  {
   "cell_type": "code",
   "execution_count": null,
   "metadata": {},
   "outputs": [],
   "source": [
    "f,ax = plt.subplots(2,1,figsize = (8,8))\n",
    "ax[0].plot(state_mon.t/ms, state_mon.v[0,:]/ms);\n",
    "ax[0].plot(state_mon.t/ms, state_mon.v[1,:]/ms);\n",
    "ax[1].plot(state_mon.t/ms, state_mon.I_ex[0,:]/ms);\n",
    "ax[1].plot(state_mon.t/ms, state_mon.I_ex[1,:]/ms);\n",
    "# ax[1].plot(state_mon.t/ms, state_mon.g_i[0,:]/ms);"
   ]
  },
  {
   "cell_type": "code",
   "execution_count": null,
   "metadata": {},
   "outputs": [],
   "source": [
    "def gen_default_params():\n",
    "    params = {}\n",
    "    params['E_l'] = -70*mV           # Leak reversal potential\n",
    "    params['E_e'] = 0*mV             # Excitatory synaptic reversal potential\n",
    "    params['E_i'] = -70*mV           # Inhibitory synaptic reversal potential\n",
    "    params['C_m'] = 200*pF           # Membrane capacitance\n",
    "    params['V_th'] = -40*mV          # Firing threshold\n",
    "    params['V_r'] = -60*mV           # Reset potential\n",
    "    \n",
    "    params['tau_e'] = 5*ms           # Excitatory synaptic time constant\n",
    "    params['tau_i'] = 5*ms           # Inhibitory synaptic time constant\n",
    "    params['tau_r'] = 1*ms           # Refractory period\n",
    "    \n",
    "    params['g_l_mu'] = 0.5 * nS\n",
    "    params['g_l_sigma'] = 0.1 * nS\n",
    "    \n",
    "    params['I_ex_mu'] = 25 * pA\n",
    "    params['I_ex_sigma'] = 20 * pA\n",
    "    \n",
    "    return params"
   ]
  },
  {
   "cell_type": "code",
   "execution_count": null,
   "metadata": {},
   "outputs": [],
   "source": []
  },
  {
   "cell_type": "code",
   "execution_count": null,
   "metadata": {},
   "outputs": [],
   "source": [
    "def gen_NG(N = 1,\n",
    "           E_l = -70 * mV,\n",
    "           E_e = 0 * mV,\n",
    "           E_i = -70 * mV,\n",
    "           C_m = 200 * pF,\n",
    "           V_th = -40 * mV,\n",
    "           V_r = -50 * mV,\n",
    "           tau_e = 5 * ms,\n",
    "           tau_i = 5 * ms,\n",
    "           tau_r = 1 * ms,\n",
    "           g_l_mu = 0.5 * nS,\n",
    "           g_l_sigma = 0.1 * nS,\n",
    "           I_ex_mu = 25 * pA,\n",
    "           I_ex_sigma = 10 * pA,\n",
    "           initialize = True):\n",
    "    \n",
    "    # constant parameters shared by all neurons in this group\n",
    "    params['E_l'] = E_l \n",
    "    params['E_e'] = E_e \n",
    "    params['E_i'] = E_i \n",
    "    params['C_m'] = C_m \n",
    "    params['V_th'] = V_th \n",
    "    params['V_r'] = V_r\n",
    "    params['tau_e'] = tau_e\n",
    "    params['tau_i'] = tau_i\n",
    "    params['tau_r'] = tau_r\n",
    "    \n",
    "    # constant parameters that vary between neurons in this group\n",
    "    params['g_l'] = (g_l_mu + g_l_sigma * randn())\n",
    "    \n",
    "    params['I_ex'] = (I_ex_mu + I_ex_sigma * randn())\n",
    "\n",
    "    \n",
    "    NG = NeuronGroup(N, model=neuron_eqs,\n",
    "                 threshold='v>V_th',\n",
    "                 reset='v=V_r',\n",
    "                 refractory='tau_r',\n",
    "                 method = 'euler')\n",
    "    \n",
    "    for key, value in params.items():\n",
    "        NG.namespace[key] = value\n",
    "    \n",
    "    if initialize:\n",
    "        NG.g_i = '0 * nS'\n",
    "        NG.g_e = '0 * nS'\n",
    "        NG.v = E_l\n",
    "    return NG"
   ]
  },
  {
   "cell_type": "code",
   "execution_count": null,
   "metadata": {},
   "outputs": [],
   "source": [
    "# params = gen_default_params()\n",
    "# NG = NeuronGroup(2, model=neuron_eqs,\n",
    "#                  threshold='v>V_th',\n",
    "#                  reset='v=V_r',\n",
    "#                  refractory='tau_r',\n",
    "#                  method = 'euler',\n",
    "#                  namespace = params)\n",
    "# P = PoissonGroup(10,50 * Hz)\n",
    "# conn = Synapses(P,NG, model=synapses_eqs,\n",
    "#                    on_pre=synapses_action+'g_e_post += w_e*r_S',delay = 20 * ms)\n",
    "\n",
    "\n",
    "# NG = gen_NG(N = 2)\n",
    "net = Network(NG)\n",
    "state_mon = StateMonitor(NG, ['v'], record=True)\n",
    "\n"
   ]
  },
  {
   "cell_type": "code",
   "execution_count": null,
   "metadata": {},
   "outputs": [],
   "source": [
    "run(duration)"
   ]
  },
  {
   "cell_type": "code",
   "execution_count": null,
   "metadata": {},
   "outputs": [],
   "source": [
    "state_mon.get_states()"
   ]
  },
  {
   "cell_type": "code",
   "execution_count": null,
   "metadata": {},
   "outputs": [],
   "source": [
    "net.run(duration, report='text')\n",
    "f,ax = plt.subplots(2,1,figsize = (8,8))\n",
    "ax[0].plot(state_mon.t/ms, state_mon.v[0,:]/ms);\n",
    "ax[1].plot(state_mon.t/ms, state_mon.g_e[0,:]/ms);\n",
    "ax[1].plot(state_mon.t/ms, state_mon.g_i[0,:]/ms);"
   ]
  },
  {
   "cell_type": "code",
   "execution_count": null,
   "metadata": {},
   "outputs": [],
   "source": [
    "df = NG.get_states(units = False, format = 'pandas')\n",
    "df"
   ]
  },
  {
   "cell_type": "code",
   "execution_count": null,
   "metadata": {},
   "outputs": [],
   "source": []
  },
  {
   "cell_type": "code",
   "execution_count": null,
   "metadata": {},
   "outputs": [],
   "source": [
    "\n",
    "N_NK1R = 10             # Number of NK1R\n",
    "N_nNOS = 10\n",
    "N_TRPV1 = 100\n",
    "\n",
    "### Neuron parameters\n",
    "E_l = -70*mV           # Leak reversal potential\n",
    "g_l = 0.5*nS           # Leak conductance\n",
    "E_e = 0*mV             # Excitatory synaptic reversal potential\n",
    "E_i = -70*mV           # Excitatory synaptic reversal potential\n",
    "C_m = 200*pF           # Membrane capacitance\n",
    "tau_e = 5*ms           # Excitatory synaptic time constant\n",
    "tau_i = 5*ms           # Excitatory synaptic time constant\n",
    "tau_r = 5*ms           # Refractory period\n",
    "I_ex = 0*pA            # External current\n",
    "V_th = -40*mV          # Firing threshold\n",
    "V_r = -60*mV           # Reset potential\n",
    "\n",
    "### Synapse parameters\n",
    "w_e = 1*nS          # Excitatory synaptic conductance\n",
    "w_i = 3 * nS        # inhibitory synaptic conductance\n",
    "U_0 = 0.1              # Synaptic release probability at rest\n",
    "Omega_d = 10/second   # Synaptic depression rate\n",
    "Omega_f = 0.1/second  # Synaptic facilitation rate\n",
    "\n",
    "################################################################################\n",
    "# Model definition\n",
    "################################################################################\n",
    "# Set the integration time (in this case not strictly necessary, since we are\n",
    "# using the default value)\n",
    "defaultclock.dt = sim_dt\n",
    "\n",
    "### External inputs\n",
    "# P = PoissonGroup(N_ext,10 * Hz)\n",
    "\n",
    "indices = []\n",
    "times = []\n",
    "rate = 5 \n",
    "start_time = 0.1\n",
    "stop_time = 1.5\n",
    "for i in range(N_TRPV1):\n",
    "    this_times = generate_periodic_spike_times(rate, start_time, stop_time) * second\n",
    "    times.append(this_times) \n",
    "    indices.append(np.ones(this_times.shape)*i)\n",
    "    \n",
    "TRPV1 = SpikeGeneratorGroup(N_TRPV1,times = np.concatenate(times) * second,\n",
    "                        indices = np.concatenate(indices))\n"
   ]
  },
  {
   "cell_type": "code",
   "execution_count": null,
   "metadata": {},
   "outputs": [],
   "source": [
    "### Neurons\n",
    "\n",
    "neurons = NeuronGroup(N_NK1R + N_nNOS, model=neuron_eqs,\n",
    "                      threshold='v>V_th', reset='v=V_r',\n",
    "                      refractory='tau_r', method='euler')\n",
    "\n",
    "# Random initial membrane potential values and conductances\n",
    "# neurons.v = 'E_l + rand()*(V_th-E_l)'\n",
    "# neurons.g_e = 'rand()*w_e'\n",
    "neurons.v = 'E_l'\n",
    "neurons.g_e = '0*w_e'\n",
    "NK1R_neurons = neurons[:N_NK1R]\n",
    "nNOS_neurons = neurons[N_NK1R:]\n",
    "\n",
    "### Synapses\n",
    "synapses_eqs = '''\n",
    "Omega_f : 1/second\n",
    "Omega_d : 1/second\n",
    "# Usage of releasable neurotransmitter per single action potential:\n",
    "du_S/dt = -Omega_f * u_S     : 1 (event-driven)\n",
    "# Fraction of synaptic neurotransmitter resources available:\n",
    "dx_S/dt = Omega_d *(1 - x_S) : 1 (event-driven)\n",
    "'''\n",
    "synapses_action = '''\n",
    "u_S += U_0 * (1 - u_S)\n",
    "r_S = u_S * x_S\n",
    "x_S -= r_S\n",
    "'''\n",
    "TRPV1_to_NK1R = Synapses(TRPV1,NK1R_neurons, model=synapses_eqs,\n",
    "                   on_pre=synapses_action+'g_e_post += w_e*r_S',delay = 20 * ms)\n",
    "TRPV1_to_NK1R.connect(p=1)\n",
    "TRPV1_to_NK1R.x_S = 1\n",
    "\n",
    "TRPV1_to_nNOS = Synapses(TRPV1,nNOS_neurons, model=synapses_eqs,\n",
    "                   on_pre=synapses_action+'g_e_post += w_e*r_S',delay = 20 * ms)\n",
    "TRPV1_to_nNOS.connect(p=1)\n",
    "TRPV1_to_nNOS.x_S = 1\n",
    "\n",
    "nNOS_to_NK1R = Synapses(nNOS_neurons,NK1R_neurons, model=synapses_eqs,\n",
    "                   on_pre=synapses_action+'g_i_post += w_i*r_S')\n",
    "nNOS_to_NK1R.connect(p=1)\n",
    "nNOS_to_NK1R.x_S = 1\n",
    "\n",
    "# Start from \"resting\" condition: all synapses have fully-replenished\n",
    "# neurotransmitter resources\n",
    "\n",
    "\n",
    "# independent variable - changing the ratio of Omega_f to Omega_d\n",
    "# exc_syn.Omega_f = np.logspace(-1,2,100) * Hz\n",
    "# exc_syn.Omega_d = np.logspace(2,-1,100) * Hz\n",
    "\n",
    "\n",
    "# ##############################################################################\n",
    "# # Monitors\n",
    "# ##############################################################################\n",
    "# Note that we could use a single monitor for all neurons instead, but in this\n",
    "# way plotting is a bit easier in the end\n",
    "NK1R_mon = SpikeMonitor(NK1R_neurons)\n",
    "nNOS_mon = SpikeMonitor(nNOS_neurons)\n",
    "spike_mon = SpikeMonitor(neurons)\n",
    "\n",
    "ext_mon = SpikeMonitor(TRPV1)\n",
    "### We record some additional data from a single excitatory neuron\n",
    "ni = 0\n",
    "# Record conductances and membrane potential of neuron ni\n",
    "state_mon = StateMonitor(NK1R_neurons, ['v', 'g_e','g_i'], record=True)\n",
    "# We make sure to monitor synaptic variables after synapse are updated in order\n",
    "# to use simple recurrence relations to reconstruct them. Record all synapses\n",
    "# originating from neuron ni\n",
    "# synapse_mon = StateMonitor(exc_syn, ['u_S', 'x_S'],\n",
    "#                            record=exc_syn[:,ni], when='after_synapses')"
   ]
  },
  {
   "cell_type": "code",
   "execution_count": null,
   "metadata": {},
   "outputs": [],
   "source": [
    "run(duration, report='text')\n",
    "f,ax = plt.subplots(2,1,figsize = (8,8))\n",
    "ax[0].plot(state_mon.t/ms, state_mon.v[0,:]/ms);\n",
    "ax[1].plot(state_mon.t/ms, state_mon.g_e[0,:]/ms);\n",
    "ax[1].plot(state_mon.t/ms, state_mon.g_i[0,:]/ms);"
   ]
  },
  {
   "cell_type": "code",
   "execution_count": null,
   "metadata": {},
   "outputs": [],
   "source": [
    "f,ax = plt.subplots(2,1,figsize = (8,8))\n",
    "ax[0].plot(state_mon.t/ms, state_mon.v[0,:]/ms);\n",
    "ax[1].plot(state_mon.t/ms, state_mon.g_e[0,:]/ms);\n",
    "ax[1].plot(state_mon.t/ms, state_mon.g_i[0,:]/ms);"
   ]
  },
  {
   "cell_type": "code",
   "execution_count": null,
   "metadata": {},
   "outputs": [],
   "source": [
    "NK1R_mon.t"
   ]
  },
  {
   "cell_type": "code",
   "execution_count": null,
   "metadata": {},
   "outputs": [],
   "source": [
    "f,ax = plt.subplots(figsize = (10,10))\n",
    "ax.plot(spike_mon.t/ms, spike_mon.i,'.')"
   ]
  },
  {
   "cell_type": "code",
   "execution_count": null,
   "metadata": {},
   "outputs": [],
   "source": [
    "f,ax = plt.subplots(2,1,figsize = (10,10))\n",
    "ax[0].plot(state_mon.t/ms, state_mon.g_e[0,:]/ms);\n",
    "ax[0].plot(state_mon.t/ms, state_mon.g_e[99,:]/ms);\n",
    "ax[1].imshow(np.array(state_mon.g_e)*10**10,aspect = 'auto',vmin = 0, vmax = 0.5)"
   ]
  },
  {
   "cell_type": "markdown",
   "metadata": {},
   "source": [
    "Now let's make the external inputs Poisson trains, from a population of 1000 neurons all firing at 10 Hz"
   ]
  },
  {
   "cell_type": "code",
   "execution_count": null,
   "metadata": {},
   "outputs": [],
   "source": [
    "\n",
    "### General parameters\n",
    "duration = 3*second  # Total simulation time\n",
    "sim_dt = 0.1*ms        # Integrator/sampling step\n",
    "N_e = 100             # Number of excitatory neurons\n",
    "N_ext = 1000\n",
    "\n",
    "### Neuron parameters\n",
    "E_l = -60*mV           # Leak reversal potential\n",
    "g_l = 100*nS         # Leak conductance\n",
    "E_e = 0*mV             # Excitatory synaptic reversal potential\n",
    "C_m = 200*pF           # Membrane capacitance\n",
    "tau_e = 5*ms           # Excitatory synaptic time constant\n",
    "tau_r = 5*ms           # Refractory period\n",
    "I_ex = 0*pA            # External current\n",
    "V_th = -50*mV          # Firing threshold\n",
    "V_r = E_l              # Reset potential\n",
    "\n",
    "### Synapse parameters\n",
    "w_e = 0.05*nS          # Excitatory synaptic conductance\n",
    "U_0 = 0.1              # Synaptic release probability at rest\n",
    "# Omega_d = 10/second   # Synaptic depression rate\n",
    "# Omega_f = 0.1/second  # Synaptic facilitation rate\n",
    "\n",
    "################################################################################\n",
    "# Model definition\n",
    "################################################################################\n",
    "# Set the integration time (in this case not strictly necessary, since we are\n",
    "# using the default value)\n",
    "defaultclock.dt = sim_dt\n",
    "\n",
    "### External inputs\n",
    "P = PoissonGroup(N_ext,20 * Hz)\n",
    "\n",
    "\n",
    "### Neurons\n",
    "neuron_eqs = '''\n",
    "dv/dt = (g_l*(E_l-v) + g_e*(E_e-v) +\n",
    "         I_ex)/C_m    : volt (unless refractory)\n",
    "dg_e/dt = -g_e/tau_e  : siemens  # post-synaptic exc. conductance\n",
    "'''\n",
    "neurons = NeuronGroup(N_e, model=neuron_eqs,\n",
    "                      threshold='v>V_th', reset='v=V_r',\n",
    "                      refractory='tau_r', method='euler')\n",
    "# Random initial membrane potential values and conductances\n",
    "# neurons.v = 'E_l + rand()*(V_th-E_l)'\n",
    "# neurons.g_e = 'rand()*w_e'\n",
    "neurons.v = 'E_l'\n",
    "neurons.g_e = '0*w_e'\n",
    "exc_neurons = neurons[:N_e]\n",
    "\n",
    "### Synapses\n",
    "synapses_eqs = '''\n",
    "Omega_f : 1/second\n",
    "Omega_d : 1/second\n",
    "# Usage of releasable neurotransmitter per single action potential:\n",
    "du_S/dt = -Omega_f * u_S     : 1 (event-driven)\n",
    "# Fraction of synaptic neurotransmitter resources available:\n",
    "dx_S/dt = Omega_d *(1 - x_S) : 1 (event-driven)\n",
    "'''\n",
    "synapses_action = '''\n",
    "u_S += U_0 * (1 - u_S)\n",
    "r_S = u_S * x_S\n",
    "x_S -= r_S\n",
    "'''\n",
    "exc_syn = Synapses(P,exc_neurons, model=synapses_eqs,\n",
    "                   on_pre=synapses_action+'g_e_post += w_e*r_S')\n",
    "\n",
    "exc_syn.connect(p=1)\n",
    "# Start from \"resting\" condition: all synapses have fully-replenished\n",
    "# neurotransmitter resources\n",
    "exc_syn.x_S = 1\n",
    "\n",
    "# independent variable - changing the ratio of Omega_f to Omega_d\n",
    "omega_fs = np.logspace(-1,2,100)\n",
    "omega_ds = np.logspace(2,-1,100)\n",
    "\n",
    "# exc_syn.Omega_f = np.array([f * np.ones(N_ext) for f in omega_fs]).flatten() * Hz\n",
    "# exc_syn.Omega_d = np.array([d * np.ones(N_ext) for d in omega_ds]).flatten() * Hz\n",
    "\n",
    "exc_syn.Omega_f = np.tile(omega_fs,1000) * Hz\n",
    "exc_syn.Omega_d = np.tile(omega_ds,1000) * Hz\n",
    "\n",
    "\n",
    "# ##############################################################################\n",
    "# # Monitors\n",
    "# ##############################################################################\n",
    "# Note that we could use a single monitor for all neurons instead, but in this\n",
    "# way plotting is a bit easier in the end\n",
    "exc_mon = SpikeMonitor(exc_neurons)\n",
    "\n",
    "ext_mon = SpikeMonitor(P)\n",
    "### We record some additional data from a single excitatory neuron\n",
    "ni = 0\n",
    "# Record conductances and membrane potential of neuron ni\n",
    "state_mon = StateMonitor(exc_neurons, ['v', 'g_e'], record=True)\n",
    "# We make sure to monitor synaptic variables after synapse are updated in order\n",
    "# to use simple recurrence relations to reconstruct them. Record all synapses\n",
    "# originating from neuron ni\n",
    "synapse_mon = StateMonitor(exc_syn, ['u_S', 'x_S'],\n",
    "                           record=exc_syn[:,ni], when='after_synapses')"
   ]
  },
  {
   "cell_type": "code",
   "execution_count": null,
   "metadata": {},
   "outputs": [],
   "source": [
    "run(duration, report='text')"
   ]
  },
  {
   "cell_type": "code",
   "execution_count": null,
   "metadata": {},
   "outputs": [],
   "source": [
    "f,ax = plt.subplots(2,1,figsize = (10,10))\n",
    "ax[0].plot(state_mon.t/ms, state_mon.g_e[0,:]/ms);\n",
    "ax[0].plot(state_mon.t/ms, state_mon.g_e[99,:]/ms);\n",
    "ax[1].imshow(np.array(state_mon.g_e)*10**9,aspect = 'auto',vmin = 0, vmax = 2)\n",
    "\n"
   ]
  },
  {
   "cell_type": "code",
   "execution_count": null,
   "metadata": {},
   "outputs": [],
   "source": []
  },
  {
   "cell_type": "markdown",
   "metadata": {},
   "source": [
    "Okay, now let's change the distribution of firing rates among the external inputs while keeping the total number of input spikes roughly the same"
   ]
  },
  {
   "cell_type": "code",
   "execution_count": null,
   "metadata": {},
   "outputs": [],
   "source": [
    "df_agg = []\n",
    "sigma_frs = [0.01,0.1,0.2,0.3,0.4,0.5,1,2]\n",
    "for sigma_fr in sigma_frs:\n",
    "\n",
    "    mu_fr = 70\n",
    "\n",
    "    ### General parameters\n",
    "    duration = 3*second  # Total simulation time\n",
    "    sim_dt = 0.1*ms        # Integrator/sampling step\n",
    "    N_e = 100             # Number of excitatory neurons\n",
    "    N_ext = 1000\n",
    "\n",
    "    ### Neuron parameters\n",
    "    E_l = -60*mV           # Leak reversal potential\n",
    "    g_l = 100*nS         # Leak conductance\n",
    "    E_e = 0*mV             # Excitatory synaptic reversal potential\n",
    "    C_m = 200*pF           # Membrane capacitance\n",
    "    tau_e = 5*ms           # Excitatory synaptic time constant\n",
    "    tau_r = 5*ms           # Refractory period\n",
    "    I_ex = 0*pA            # External current\n",
    "    V_th = -50*mV          # Firing threshold\n",
    "    V_r = E_l              # Reset potential\n",
    "\n",
    "    ### Synapse parameters\n",
    "    w_e = 0.05*nS          # Excitatory synaptic conductance\n",
    "    U_0 = 0.1              # Synaptic release probability at rest\n",
    "    # Omega_d = 10/second   # Synaptic depression rate\n",
    "    # Omega_f = 0.1/second  # Synaptic facilitation rate\n",
    "\n",
    "    ################################################################################\n",
    "    # Model definition\n",
    "    ################################################################################\n",
    "    # Set the integration time (in this case not strictly necessary, since we are\n",
    "    # using the default value)\n",
    "    defaultclock.dt = sim_dt\n",
    "\n",
    "\n",
    "    ### Neurons\n",
    "    neuron_eqs = '''\n",
    "    dv/dt = (g_l*(E_l-v) + g_e*(E_e-v) +\n",
    "             I_ex)/C_m    : volt (unless refractory)\n",
    "    dg_e/dt = -g_e/tau_e  : siemens  # post-synaptic exc. conductance\n",
    "    '''\n",
    "    neurons = NeuronGroup(N_e, model=neuron_eqs,\n",
    "                          threshold='v>V_th', reset='v=V_r',\n",
    "                          refractory='tau_r', method='euler')\n",
    "    # Random initial membrane potential values and conductances\n",
    "    # neurons.v = 'E_l + rand()*(V_th-E_l)'\n",
    "    # neurons.g_e = 'rand()*w_e'\n",
    "    neurons.v = 'E_l'\n",
    "    neurons.g_e = '0*w_e'\n",
    "    exc_neurons = neurons[:N_e]\n",
    "\n",
    "    ### Synapses\n",
    "    synapses_eqs = '''\n",
    "    Omega_f : 1/second\n",
    "    Omega_d : 1/second\n",
    "    # Usage of releasable neurotransmitter per single action potential:\n",
    "    du_S/dt = -Omega_f * u_S     : 1 (event-driven)\n",
    "    # Fraction of synaptic neurotransmitter resources available:\n",
    "    dx_S/dt = Omega_d *(1 - x_S) : 1 (event-driven)\n",
    "    '''\n",
    "    synapses_action = '''\n",
    "    u_S += U_0 * (1 - u_S)\n",
    "    r_S = u_S * x_S\n",
    "    x_S -= r_S\n",
    "    '''\n",
    "\n",
    "    frs = np.random.lognormal(np.log(10),sigma_fr,N_ext)\n",
    "    frs = frs * mu_fr / frs.mean()\n",
    "    ### External inputs\n",
    "    P = PoissonGroup(N_ext,frs * Hz)\n",
    "\n",
    "    exc_syn = Synapses(P,exc_neurons, model=synapses_eqs,\n",
    "                       on_pre=synapses_action+'g_e_post += w_e*r_S')\n",
    "\n",
    "    exc_syn.connect(p=1)\n",
    "    # Start from \"resting\" condition: all synapses have fully-replenished\n",
    "    # neurotransmitter resources\n",
    "    exc_syn.x_S = 1\n",
    "\n",
    "    # independent variable - changing the ratio of Omega_f to Omega_d\n",
    "    omega_fs = np.logspace(-2,2,100)\n",
    "    omega_ds = np.logspace(2,-2,100)\n",
    "\n",
    "    # exc_syn.Omega_f = np.array([f * np.ones(N_ext) for f in omega_fs]).flatten() * Hz\n",
    "    # exc_syn.Omega_d = np.array([d * np.ones(N_ext) for d in omega_ds]).flatten() * Hz\n",
    "\n",
    "    exc_syn.Omega_f = np.tile(omega_fs,1000) * Hz\n",
    "    exc_syn.Omega_d = np.tile(omega_ds,1000) * Hz\n",
    "\n",
    "\n",
    "    # ##############################################################################\n",
    "    # # Monitors\n",
    "    # ##############################################################################\n",
    "    # Note that we could use a single monitor for all neurons instead, but in this\n",
    "    # way plotting is a bit easier in the end\n",
    "    exc_mon = SpikeMonitor(exc_neurons)\n",
    "\n",
    "    ext_mon = SpikeMonitor(P)\n",
    "    ### We record some additional data from a single excitatory neuron\n",
    "    ni = 0\n",
    "    # Record conductances and membrane potential of neuron ni\n",
    "    state_mon = StateMonitor(exc_neurons, ['v', 'g_e'], record=True)\n",
    "    # We make sure to monitor synaptic variables after synapse are updated in order\n",
    "    # to use simple recurrence relations to reconstruct them. Record all synapses\n",
    "    # originating from neuron ni\n",
    "    synapse_mon = StateMonitor(exc_syn, ['u_S', 'x_S'],\n",
    "                               record=exc_syn[:,ni], when='after_synapses')\n",
    "\n",
    "    run(duration, report='text')\n",
    "    g_e_ss = np.mean(np.array(state_mon.g_e[:,2000:30000]),axis = 1)\n",
    "    df = pd.DataFrame({'omega_f':omega_fs,'omega_d':omega_ds,'g_e_ss':g_e_ss})\n",
    "    df['sigma_fr'] = sigma_fr\n",
    "    df['L1'] = frs.sum()\n",
    "    df['L2'] = np.sum(frs ** 2) ** 0.5\n",
    "    df['i'] = np.arange(N_e)\n",
    "    df_agg.append(df)"
   ]
  },
  {
   "cell_type": "code",
   "execution_count": null,
   "metadata": {},
   "outputs": [],
   "source": [
    "df = pd.concat(df_agg)\n"
   ]
  },
  {
   "cell_type": "code",
   "execution_count": null,
   "metadata": {},
   "outputs": [],
   "source": [
    "groups = df.groupby('i')"
   ]
  },
  {
   "cell_type": "markdown",
   "metadata": {},
   "source": [
    "I need to remember how to use pandas ugh"
   ]
  },
  {
   "cell_type": "code",
   "execution_count": null,
   "metadata": {},
   "outputs": [],
   "source": [
    "norm = groups['g_e_ss'].apply(lambda x: x['g_e_ss']/x['g_e_ss'].max())"
   ]
  },
  {
   "cell_type": "code",
   "execution_count": null,
   "metadata": {},
   "outputs": [],
   "source": [
    "df['g_e_ss_norm'] = norm.reset_index(drop = True)"
   ]
  },
  {
   "cell_type": "code",
   "execution_count": null,
   "metadata": {},
   "outputs": [],
   "source": [
    "df[ind]"
   ]
  },
  {
   "cell_type": "code",
   "execution_count": null,
   "metadata": {},
   "outputs": [],
   "source": [
    "ind = df['i'] == 0\n",
    "plt.plot(df[ind].sigma_fr,df[ind].g_e_ss/df[ind].g_e_ss.max())\n",
    "ind = df['i'] == 99\n",
    "plt.plot(df[ind].sigma_fr,df[ind].g_e_ss/df[ind].g_e_ss.max())"
   ]
  },
  {
   "cell_type": "code",
   "execution_count": null,
   "metadata": {},
   "outputs": [],
   "source": [
    "g_e_ss_norm = []\n",
    "for i in range(100):\n",
    "    ind = df['i'] == i\n",
    "    g_e_ss_norm.append(df[ind].g_e_ss/df[ind].g_e_ss.max())"
   ]
  },
  {
   "cell_type": "code",
   "execution_count": null,
   "metadata": {},
   "outputs": [],
   "source": [
    "plt.imshow(np.stack(g_e_ss_norm),aspect = 'auto')"
   ]
  },
  {
   "cell_type": "code",
   "execution_count": null,
   "metadata": {},
   "outputs": [],
   "source": [
    "f,ax = plt.subplots(4,1,figsize = (10,10))\n",
    "ax[0].plot(state_mon.t/ms, state_mon.v[0]/ms);\n",
    "ax[1].plot(state_mon.t/ms, state_mon.g_e[0]/ms);\n",
    "ax[1].plot(state_mon.t/ms, state_mon.g_e[99]/ms);\n",
    "ax[2].plot(synapse_mon.t/ms, synapse_mon.x_S[0,:]/ms,'-');\n",
    "ax[3].plot(synapse_mon.t/ms, synapse_mon.u_S[0,:]/ms),'-';"
   ]
  },
  {
   "cell_type": "code",
   "execution_count": null,
   "metadata": {},
   "outputs": [],
   "source": [
    "plt.plot(exc_mon.t[exc_mon.i ]/ms,\n",
    "           exc_mon.i[exc_mon.i ], '|', color='C0')"
   ]
  },
  {
   "cell_type": "markdown",
   "metadata": {},
   "source": [
    "The Beta distribution is a special case of the Dirichlet distribution,\n",
    "and is related to the Gamma distribution.  It has the probability\n",
    "distribution function\n",
    "\n",
    "f(x; a,b) = \\frac{1}{B(\\alpha, \\beta)} x^{\\alpha - 1}\n",
    "                                                 (1 - x)^{\\beta - 1},\n",
    "\n",
    "where the normalisation, B, is the beta function,\n",
    "\n",
    "B(\\alpha, \\beta) = \\int_0^1 t^{\\alpha - 1}\n",
    "                             (1 - t)^{\\beta - 1} dt."
   ]
  },
  {
   "cell_type": "code",
   "execution_count": null,
   "metadata": {},
   "outputs": [],
   "source": [
    "x = np.random.beta(10,1000,1000)"
   ]
  },
  {
   "cell_type": "code",
   "execution_count": null,
   "metadata": {},
   "outputs": [],
   "source": [
    "?np.random.lognormal"
   ]
  },
  {
   "cell_type": "code",
   "execution_count": null,
   "metadata": {},
   "outputs": [],
   "source": [
    "f, ax = plt.subplots()\n",
    "x = np.random.lognormal(2.3,0.1,100000)\n",
    "x2 = np.random.lognormal(2.3,0.5,100000)\n",
    "sns.distplot(x, ax = ax)\n",
    "sns.distplot(x2, ax = ax)\n",
    "\n",
    "plt.yscale('log')"
   ]
  },
  {
   "cell_type": "code",
   "execution_count": null,
   "metadata": {},
   "outputs": [],
   "source": [
    "np.sum(x2)"
   ]
  }
 ],
 "metadata": {
  "kernelspec": {
   "display_name": "Python [conda env:brian]",
   "language": "python",
   "name": "conda-env-brian-py"
  },
  "language_info": {
   "codemirror_mode": {
    "name": "ipython",
    "version": 3
   },
   "file_extension": ".py",
   "mimetype": "text/x-python",
   "name": "python",
   "nbconvert_exporter": "python",
   "pygments_lexer": "ipython3",
   "version": "3.6.8"
  }
 },
 "nbformat": 4,
 "nbformat_minor": 2
}
